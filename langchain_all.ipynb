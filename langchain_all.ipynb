{
 "cells": [
  {
   "cell_type": "markdown",
   "source": [
    "# Searching or questioning all the sources\n",
    "In this notebook, we create a chain that can ask all the different sources a question. Using functions we can choose the right source. We use the language model to make the selection.\n",
    "- Product search: use the VectorStore retriever making use of Amazon OpenSearch Service\n",
    "- Question: use the VectorStore QA retriever to use content from the vector store and OpenAI to write an asnwer\n",
    "- Find Opening times: Use a normal query against Amazon OpenSearch Service"
   ],
   "metadata": {
    "collapsed": false
   },
   "id": "1cbd160780d4f13e"
  },
  {
   "cell_type": "markdown",
   "source": [
    "## Initialise the OpenSearch connection \n",
    "Notice that we do not provide a default alias. We need to provide the name of the index or alias on each request."
   ],
   "metadata": {
    "collapsed": false
   },
   "id": "2fe5671ee80d4fb"
  },
  {
   "cell_type": "code",
   "execution_count": null,
   "id": "initial_id",
   "metadata": {
    "collapsed": true
   },
   "outputs": [],
   "source": [
    "\n",
    "\n",
    "from retriever import find_auth_opensearch, OpenSearchClient\n",
    "\n",
    "config = find_auth_opensearch()\n",
    "client = OpenSearchClient(config)\n",
    "\n",
    "if client.ping():\n",
    "    print(\"We have a connection to the Amazon OpenSearch Cluster\")\n",
    "else:\n",
    "    print(\"ERROR: no connection to the Amazon OpenSearch Cluster\")"
   ]
  },
  {
   "cell_type": "markdown",
   "source": [
    "## Initialise the product search"
   ],
   "metadata": {
    "collapsed": false
   },
   "id": "d76075311321c998"
  },
  {
   "cell_type": "code",
   "execution_count": null,
   "outputs": [],
   "source": [
    "import os\n",
    "\n",
    "from langchain.vectorstores import OpenSearchVectorSearch\n",
    "from langchain.embeddings import OpenAIEmbeddings\n",
    "from opensearchpy import RequestsHttpConnection\n",
    "from dotenv import load_dotenv\n",
    "\n",
    "load_dotenv()\n",
    "\n",
    "vector_store_products = OpenSearchVectorSearch(\n",
    "    index_name=\"sg-products\",\n",
    "    embedding_function=OpenAIEmbeddings(openai_api_key=os.getenv('OPEN_AI_API_KEY')),\n",
    "    opensearch_url=f\"https://{config['host']}:{config['port']}\",\n",
    "    use_ssl=True,\n",
    "    verify_certs=True,\n",
    "    http_auth=config[\"auth\"],\n",
    "    connection_class=RequestsHttpConnection\n",
    ")\n",
    "\n",
    "\n",
    "def execute_product_search(query: str) -> dict:\n",
    "    \"\"\"Useful for finding products related to the search terms that are provided.\n",
    "\n",
    "    Args:\n",
    "        query: Query to search products for\n",
    "    \"\"\"\n",
    "    found_docs = vector_store_products.similarity_search_with_score(query=query, \n",
    "                                                                    text_field=\"title\",\n",
    "                                                                    vector_field=\"title_vector\")\n",
    "    results = []\n",
    "    for doc, _score in found_docs:\n",
    "        results.append({\"title\": doc.page_content, \"score\": _score, \"image_name\": doc.metadata[\"image_name\"]})\n",
    "\n",
    "    return {\n",
    "        \"tool\": \"product_search\",\n",
    "        \"result\": results\n",
    "    }"
   ],
   "metadata": {
    "collapsed": false
   },
   "id": "e8e95161efdcfc53"
  },
  {
   "cell_type": "code",
   "execution_count": null,
   "outputs": [],
   "source": [
    "print(execute_product_search(query=\"The lord of the rings\"))"
   ],
   "metadata": {
    "collapsed": false
   },
   "id": "c5d95e0190684883"
  },
  {
   "cell_type": "markdown",
   "source": [
    "## Initialise the content search"
   ],
   "metadata": {
    "collapsed": false
   },
   "id": "ddb348a691367e41"
  },
  {
   "cell_type": "code",
   "execution_count": null,
   "outputs": [],
   "source": [
    "vector_store = OpenSearchVectorSearch(\n",
    "    index_name=\"sg-content\",\n",
    "    embedding_function=OpenAIEmbeddings(openai_api_key=os.getenv('OPEN_AI_API_KEY')),\n",
    "    opensearch_url=f\"https://{config['host']}:{config['port']}\",\n",
    "    use_ssl=True,\n",
    "    verify_certs=True,\n",
    "    http_auth=config[\"auth\"],\n",
    "    connection_class=RequestsHttpConnection\n",
    ")\n",
    "\n",
    "from langchain.chains import RetrievalQA\n",
    "from langchain import PromptTemplate, OpenAI\n",
    "\n",
    "prompt_template = \"\"\"Use the context to answer the question. If you don't know the \n",
    "    answer, just say that you don't know, don't make up an answer.\n",
    "\n",
    "    {context}\n",
    "\n",
    "    Question: {question}:\"\"\"\n",
    "\n",
    "custom_prompt = PromptTemplate(\n",
    "    template=prompt_template, input_variables=[\"context\", \"question\"]\n",
    ")\n",
    "\n",
    "chain_type_kwargs = {\"prompt\": custom_prompt}\n",
    "chain = RetrievalQA.from_chain_type(\n",
    "    llm=OpenAI(openai_api_key=os.getenv('OPEN_AI_API_KEY')),\n",
    "    chain_type=\"stuff\",\n",
    "    retriever=vector_store.as_retriever(),\n",
    "    chain_type_kwargs=chain_type_kwargs\n",
    ")\n",
    "\n",
    "\n",
    "def execute_content_search(query: str) -> dict:\n",
    "    \"\"\"Useful for obtaining answers to questions about help for the website, your account and sustainability.\n",
    "\n",
    "    Args:\n",
    "        query: Query to use as input for the content search\n",
    "    \"\"\"\n",
    "    return {\n",
    "        \"tool\": \"content_search\",\n",
    "        \"result\": chain.run(query)\n",
    "    }"
   ],
   "metadata": {
    "collapsed": false
   },
   "id": "8ca315ee528588c0"
  },
  {
   "cell_type": "code",
   "execution_count": null,
   "outputs": [],
   "source": [
    "print(execute_content_search(\"What is your return policy\"))"
   ],
   "metadata": {
    "collapsed": false
   },
   "id": "8cd0e139cb6e3e89"
  },
  {
   "cell_type": "code",
   "execution_count": null,
   "outputs": [],
   "source": [
    "def execute_opening_hours(query: str) -> dict:\n",
    "    \"\"\"Useful for obtaining opening hours of a store in city that is provided.\n",
    "\n",
    "    Args:\n",
    "        query: Name of the city to search for\n",
    "    \"\"\"\n",
    "    body = {\n",
    "        \"query\": {\n",
    "            \"match\": {\n",
    "                \"city\": query\n",
    "            }\n",
    "        }\n",
    "    }\n",
    "    search_result = client.search(body=body, size=1, index_name=\"sg-stores\")\n",
    "    result = []\n",
    "    if search_result[\"hits\"][\"total\"][\"value\"] > 0:\n",
    "        result = search_result[\"hits\"][\"hits\"][0][\"_source\"]\n",
    "        \n",
    "    \n",
    "    return {\n",
    "        \"tool\": \"opening_hours\",\n",
    "        \"result\": result\n",
    "    }"
   ],
   "metadata": {
    "collapsed": false
   },
   "id": "bb8bd01fca638128"
  },
  {
   "cell_type": "code",
   "execution_count": null,
   "outputs": [],
   "source": [
    "print(execute_opening_hours(\"pijnacker\"))"
   ],
   "metadata": {
    "collapsed": false
   },
   "id": "6ef2d05a1853d4a"
  },
  {
   "cell_type": "markdown",
   "source": [
    "## Initialise the function call chain using the previous functions"
   ],
   "metadata": {
    "collapsed": false
   },
   "id": "22032e82113050b9"
  },
  {
   "cell_type": "code",
   "execution_count": null,
   "outputs": [],
   "source": [
    "from langchain.chains.openai_functions import create_openai_fn_chain\n",
    "from langchain.prompts import ChatPromptTemplate\n",
    "from langchain.chat_models import ChatOpenAI\n",
    "\n",
    "\n",
    "def init_fn_chain():\n",
    "    llm = ChatOpenAI(model=\"gpt-4-0613\", temperature=0, openai_api_key=os.getenv('OPEN_AI_API_KEY'))\n",
    "    prompt = ChatPromptTemplate.from_messages(\n",
    "        [\n",
    "            (\"system\", \"You are a system to search for answers on a provided question.\"),\n",
    "            (\"human\", \"Make calls to the relevant function to using the following input: {input}\"),\n",
    "            (\"human\", \"Tip: Make sure to answer in the correct format\"),\n",
    "        ]\n",
    "    )\n",
    "\n",
    "    return create_openai_fn_chain(\n",
    "        functions=[execute_opening_hours, execute_content_search, execute_product_search],\n",
    "        llm=llm,\n",
    "        prompt=prompt,\n",
    "        verbose=True\n",
    "    )\n",
    "\n",
    "function_chain = init_fn_chain()\n",
    "\n",
    "functions_map = {\n",
    "    'execute_opening_hours': execute_opening_hours,\n",
    "    'execute_content_search': execute_content_search,\n",
    "    'execute_product_search': execute_product_search\n",
    "}\n"
   ],
   "metadata": {
    "collapsed": false
   },
   "id": "9d6ae061098402ab"
  },
  {
   "cell_type": "code",
   "execution_count": null,
   "outputs": [],
   "source": [
    "import langchain\n",
    "langchain.debug = False\n",
    "# message = \"lord of the rings\"\n",
    "# message = \"Do you use reusable packaging\"\n",
    "message = \"How can I reset my password\"\n",
    "# message = \"Do you have something from Lord of the rings?\"\n",
    "# message = \"openinghours pijnacker\"\n",
    "# message = \"openingstijden pijnacker\"\n",
    "# response = agent_executor.run(message)\n",
    "\n",
    "chain_response = function_chain.run(message)\n",
    "print(chain_response)\n",
    "function_name = chain_response[\"name\"]\n",
    "args = chain_response[\"arguments\"]\n",
    "\n",
    "if function_name not in functions_map:\n",
    "    print(\"Could not decide which content search to perform.\")\n",
    "else:\n",
    "    print(functions_map[function_name](**args))\n",
    "\n"
   ],
   "metadata": {
    "collapsed": false
   },
   "id": "533d045ffe0fea82"
  }
 ],
 "metadata": {
  "kernelspec": {
   "display_name": "Python 3",
   "language": "python",
   "name": "python3"
  },
  "language_info": {
   "codemirror_mode": {
    "name": "ipython",
    "version": 2
   },
   "file_extension": ".py",
   "mimetype": "text/x-python",
   "name": "python",
   "nbconvert_exporter": "python",
   "pygments_lexer": "ipython2",
   "version": "2.7.6"
  }
 },
 "nbformat": 4,
 "nbformat_minor": 5
}
