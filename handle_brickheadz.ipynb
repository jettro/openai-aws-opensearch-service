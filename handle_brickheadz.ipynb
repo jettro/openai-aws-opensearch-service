{
 "cells": [
  {
   "cell_type": "markdown",
   "source": [
    "# Importing LEGO® BrickHeadz™ data into a vector store\n",
    "This notebook makes use of data obtained from the LEGO® BrickHeadz™ website. We used the online offering from [browse.ai](https://browse.ai) to create a CSV file. You can find the data in the [extract-data-brickheadz.csv](./data/extract-data-brickheadz.csv).\n",
    "\n",
    "The file contains a number of columns that we want to retain to improve the search options. Therefore we first read and extend the data using Pandas. After that we use [Langchain](https://langchain.com) together with [OpenAI](https://www.openai.com) to create the embeddings. With the embeddings we upload the data to *Amazon OpenSearch Service*. To better control what happens in OpenSearch, we manage the index using templates.\n",
    "\n",
    "First, we have a look at our data using the Pandas library."
   ],
   "metadata": {
    "collapsed": false
   },
   "id": "ea1b90104b69425b"
  },
  {
   "cell_type": "code",
   "execution_count": 3,
   "outputs": [
    {
     "data": {
      "text/plain": "   Position                                       product_link  age  \\\n0         1  https://www.lego.com/nl-nl/product/professors-...  10+   \n1         2  https://www.lego.com/nl-nl/product/harry-hermi...  10+   \n2         3  https://www.lego.com/nl-nl/product/chip-dale-4...  10+   \n3         4  https://www.lego.com/nl-nl/product/woody-and-b...  10+   \n4         5  https://www.lego.com/nl-nl/product/goofy-pluto...  10+   \n\n   number_of_pieces                            title   price  \\\n0               601          Leraren van Zweinstein™  €39,99   \n1               466  Harry, Hermelien, Ron & Hagrid™  €24,99   \n2               226                 Knabbel & Babbel  €19,99   \n3               296                  Woody & Bo Peep  €19,99   \n4               214                   Goofy en Pluto  €14,99   \n\n                                          image_link  \\\n0  https://www.lego.com/cdn/cs/set/assets/blt8c72...   \n1  https://www.lego.com/cdn/cs/set/assets/bltbc78...   \n2  https://www.lego.com/cdn/cs/set/assets/blt0bac...   \n3  https://www.lego.com/cdn/cs/set/assets/blt2bea...   \n4  https://www.lego.com/cdn/cs/set/assets/blt4306...   \n\n                                 product_description  \n0  Dit is een betoverende verrassing voor fans va...  \n1  LEGO® BrickHeadz™ versies van 4 van de bekends...  \n2  Keer terug naar je jeugd met deze leuke LEGO® ...  \n3  Zorg dat je twee favoriete filmpersonages alti...  \n4  Deze Goofy en Pluto set (40378) met 2 klassiek...  ",
      "text/html": "<div>\n<style scoped>\n    .dataframe tbody tr th:only-of-type {\n        vertical-align: middle;\n    }\n\n    .dataframe tbody tr th {\n        vertical-align: top;\n    }\n\n    .dataframe thead th {\n        text-align: right;\n    }\n</style>\n<table border=\"1\" class=\"dataframe\">\n  <thead>\n    <tr style=\"text-align: right;\">\n      <th></th>\n      <th>Position</th>\n      <th>product_link</th>\n      <th>age</th>\n      <th>number_of_pieces</th>\n      <th>title</th>\n      <th>price</th>\n      <th>image_link</th>\n      <th>product_description</th>\n    </tr>\n  </thead>\n  <tbody>\n    <tr>\n      <th>0</th>\n      <td>1</td>\n      <td>https://www.lego.com/nl-nl/product/professors-...</td>\n      <td>10+</td>\n      <td>601</td>\n      <td>Leraren van Zweinstein™</td>\n      <td>€39,99</td>\n      <td>https://www.lego.com/cdn/cs/set/assets/blt8c72...</td>\n      <td>Dit is een betoverende verrassing voor fans va...</td>\n    </tr>\n    <tr>\n      <th>1</th>\n      <td>2</td>\n      <td>https://www.lego.com/nl-nl/product/harry-hermi...</td>\n      <td>10+</td>\n      <td>466</td>\n      <td>Harry, Hermelien, Ron &amp; Hagrid™</td>\n      <td>€24,99</td>\n      <td>https://www.lego.com/cdn/cs/set/assets/bltbc78...</td>\n      <td>LEGO® BrickHeadz™ versies van 4 van de bekends...</td>\n    </tr>\n    <tr>\n      <th>2</th>\n      <td>3</td>\n      <td>https://www.lego.com/nl-nl/product/chip-dale-4...</td>\n      <td>10+</td>\n      <td>226</td>\n      <td>Knabbel &amp; Babbel</td>\n      <td>€19,99</td>\n      <td>https://www.lego.com/cdn/cs/set/assets/blt0bac...</td>\n      <td>Keer terug naar je jeugd met deze leuke LEGO® ...</td>\n    </tr>\n    <tr>\n      <th>3</th>\n      <td>4</td>\n      <td>https://www.lego.com/nl-nl/product/woody-and-b...</td>\n      <td>10+</td>\n      <td>296</td>\n      <td>Woody &amp; Bo Peep</td>\n      <td>€19,99</td>\n      <td>https://www.lego.com/cdn/cs/set/assets/blt2bea...</td>\n      <td>Zorg dat je twee favoriete filmpersonages alti...</td>\n    </tr>\n    <tr>\n      <th>4</th>\n      <td>5</td>\n      <td>https://www.lego.com/nl-nl/product/goofy-pluto...</td>\n      <td>10+</td>\n      <td>214</td>\n      <td>Goofy en Pluto</td>\n      <td>€14,99</td>\n      <td>https://www.lego.com/cdn/cs/set/assets/blt4306...</td>\n      <td>Deze Goofy en Pluto set (40378) met 2 klassiek...</td>\n    </tr>\n  </tbody>\n</table>\n</div>"
     },
     "execution_count": 3,
     "metadata": {},
     "output_type": "execute_result"
    }
   ],
   "source": [
    "import pandas as pd\n",
    "\n",
    "df = pd.read_csv('./data/extract-data-brickheadz.csv')\n",
    "df.head()"
   ],
   "metadata": {
    "collapsed": false,
    "ExecuteTime": {
     "end_time": "2023-08-24T13:29:03.420985Z",
     "start_time": "2023-08-24T13:29:03.398416Z"
    }
   },
   "id": "e43ea77af3eaaeb5"
  },
  {
   "cell_type": "markdown",
   "source": [
    "We could show the image using one of the urls, but I wanted to have them local and not depend on the LEGO® website. Therefore I wrote a small piece of code to download them."
   ],
   "metadata": {
    "collapsed": false
   },
   "id": "dfdb7063da6bfca4"
  },
  {
   "cell_type": "code",
   "execution_count": 4,
   "outputs": [],
   "source": [
    "import requests\n",
    "\n",
    "\n",
    "def write_images_to_disk():\n",
    "    for key, value in df.iterrows():\n",
    "        url = value.image_link\n",
    "        image_name = url.rsplit('/', 1)[-1]\n",
    "        response = requests.get(url)\n",
    "\n",
    "        with open(\"images/\" + image_name, \"wb\") as f:\n",
    "            f.write(response.content)\n",
    "\n",
    "# write_images_to_disk()"
   ],
   "metadata": {
    "collapsed": false,
    "ExecuteTime": {
     "end_time": "2023-08-24T13:29:09.401522Z",
     "start_time": "2023-08-24T13:29:09.305254Z"
    }
   },
   "id": "2f8242deefa2c8"
  },
  {
   "cell_type": "markdown",
   "source": [
    "To have the image name available later on as well, we create a new column in the DataSet containing only the name of the image. At the same time, we later on need a column with the id. We create that here as well."
   ],
   "metadata": {
    "collapsed": false
   },
   "id": "1376e511be650e39"
  },
  {
   "cell_type": "code",
   "execution_count": 6,
   "outputs": [
    {
     "data": {
      "text/plain": "   Position                                       product_link  age  \\\n0         1  https://www.lego.com/nl-nl/product/professors-...  10+   \n1         2  https://www.lego.com/nl-nl/product/harry-hermi...  10+   \n2         3  https://www.lego.com/nl-nl/product/chip-dale-4...  10+   \n3         4  https://www.lego.com/nl-nl/product/woody-and-b...  10+   \n4         5  https://www.lego.com/nl-nl/product/goofy-pluto...  10+   \n\n   number_of_pieces                            title   price  \\\n0               601          Leraren van Zweinstein™  €39,99   \n1               466  Harry, Hermelien, Ron & Hagrid™  €24,99   \n2               226                 Knabbel & Babbel  €19,99   \n3               296                  Woody & Bo Peep  €19,99   \n4               214                   Goofy en Pluto  €14,99   \n\n                                          image_link  \\\n0  https://www.lego.com/cdn/cs/set/assets/blt8c72...   \n1  https://www.lego.com/cdn/cs/set/assets/bltbc78...   \n2  https://www.lego.com/cdn/cs/set/assets/blt0bac...   \n3  https://www.lego.com/cdn/cs/set/assets/blt2bea...   \n4  https://www.lego.com/cdn/cs/set/assets/blt4306...   \n\n                                 product_description image_name  id  \n0  Dit is een betoverende verrassing voor fans va...  40560.png   1  \n1  LEGO® BrickHeadz™ versies van 4 van de bekends...  40495.jpg   2  \n2  Keer terug naar je jeugd met deze leuke LEGO® ...  40550.png   3  \n3  Zorg dat je twee favoriete filmpersonages alti...  40553.png   4  \n4  Deze Goofy en Pluto set (40378) met 2 klassiek...  40378.jpg   5  ",
      "text/html": "<div>\n<style scoped>\n    .dataframe tbody tr th:only-of-type {\n        vertical-align: middle;\n    }\n\n    .dataframe tbody tr th {\n        vertical-align: top;\n    }\n\n    .dataframe thead th {\n        text-align: right;\n    }\n</style>\n<table border=\"1\" class=\"dataframe\">\n  <thead>\n    <tr style=\"text-align: right;\">\n      <th></th>\n      <th>Position</th>\n      <th>product_link</th>\n      <th>age</th>\n      <th>number_of_pieces</th>\n      <th>title</th>\n      <th>price</th>\n      <th>image_link</th>\n      <th>product_description</th>\n      <th>image_name</th>\n      <th>id</th>\n    </tr>\n  </thead>\n  <tbody>\n    <tr>\n      <th>0</th>\n      <td>1</td>\n      <td>https://www.lego.com/nl-nl/product/professors-...</td>\n      <td>10+</td>\n      <td>601</td>\n      <td>Leraren van Zweinstein™</td>\n      <td>€39,99</td>\n      <td>https://www.lego.com/cdn/cs/set/assets/blt8c72...</td>\n      <td>Dit is een betoverende verrassing voor fans va...</td>\n      <td>40560.png</td>\n      <td>1</td>\n    </tr>\n    <tr>\n      <th>1</th>\n      <td>2</td>\n      <td>https://www.lego.com/nl-nl/product/harry-hermi...</td>\n      <td>10+</td>\n      <td>466</td>\n      <td>Harry, Hermelien, Ron &amp; Hagrid™</td>\n      <td>€24,99</td>\n      <td>https://www.lego.com/cdn/cs/set/assets/bltbc78...</td>\n      <td>LEGO® BrickHeadz™ versies van 4 van de bekends...</td>\n      <td>40495.jpg</td>\n      <td>2</td>\n    </tr>\n    <tr>\n      <th>2</th>\n      <td>3</td>\n      <td>https://www.lego.com/nl-nl/product/chip-dale-4...</td>\n      <td>10+</td>\n      <td>226</td>\n      <td>Knabbel &amp; Babbel</td>\n      <td>€19,99</td>\n      <td>https://www.lego.com/cdn/cs/set/assets/blt0bac...</td>\n      <td>Keer terug naar je jeugd met deze leuke LEGO® ...</td>\n      <td>40550.png</td>\n      <td>3</td>\n    </tr>\n    <tr>\n      <th>3</th>\n      <td>4</td>\n      <td>https://www.lego.com/nl-nl/product/woody-and-b...</td>\n      <td>10+</td>\n      <td>296</td>\n      <td>Woody &amp; Bo Peep</td>\n      <td>€19,99</td>\n      <td>https://www.lego.com/cdn/cs/set/assets/blt2bea...</td>\n      <td>Zorg dat je twee favoriete filmpersonages alti...</td>\n      <td>40553.png</td>\n      <td>4</td>\n    </tr>\n    <tr>\n      <th>4</th>\n      <td>5</td>\n      <td>https://www.lego.com/nl-nl/product/goofy-pluto...</td>\n      <td>10+</td>\n      <td>214</td>\n      <td>Goofy en Pluto</td>\n      <td>€14,99</td>\n      <td>https://www.lego.com/cdn/cs/set/assets/blt4306...</td>\n      <td>Deze Goofy en Pluto set (40378) met 2 klassiek...</td>\n      <td>40378.jpg</td>\n      <td>5</td>\n    </tr>\n  </tbody>\n</table>\n</div>"
     },
     "execution_count": 6,
     "metadata": {},
     "output_type": "execute_result"
    }
   ],
   "source": [
    "df[\"image_name\"] = df[\"image_link\"].str.rsplit('/').str.get(-1)\n",
    "df[\"id\"] = df[\"Position\"]\n",
    "\n",
    "df.head()"
   ],
   "metadata": {
    "collapsed": false,
    "ExecuteTime": {
     "end_time": "2023-08-24T13:29:24.047476Z",
     "start_time": "2023-08-24T13:29:24.034587Z"
    }
   },
   "id": "9d8cad09c399298c"
  },
  {
   "cell_type": "markdown",
   "source": [
    "We have our data available, now we want to prepare our Amazon OpenSearch Service cluster. We need to create the index to store the product data. We like to use index templates to configure settings and mappings. There are three components that make our life easier when talking to OpenSearch: \n",
    "- [OpenSearchTemplate](./retriever/opensearch_template.py) : Helps to create the template from the available components\n",
    "- [OpenSearchClient](./retriever/opensearch.py) : Helps for communicating with OpenSearch\n",
    "- [find_auth_opensearch](./retriever/opensearch_auth_local.py) : Helps to obtain authorisation to connect to OpenSearch\n",
    "\n",
    "In the next code block, we initialize the client and verify if the connection is working. "
   ],
   "metadata": {
    "collapsed": false
   },
   "id": "a50a9e4d1555b430"
  },
  {
   "cell_type": "code",
   "execution_count": 7,
   "outputs": [
    {
     "name": "stdout",
     "output_type": "stream",
     "text": [
      "We have a connection to the Amazon OpenSearch Cluster\n"
     ]
    }
   ],
   "source": [
    "from retriever import find_auth_opensearch, OpenSearchClient\n",
    "\n",
    "config = find_auth_opensearch()\n",
    "client = OpenSearchClient(config, alias_name=\"sg-products\")\n",
    "\n",
    "if client.ping():\n",
    "    print(\"We have a connection to the Amazon OpenSearch Cluster\")\n",
    "else:\n",
    "    print(\"ERROR: no connection to the Amazon OpenSearch Cluster\")"
   ],
   "metadata": {
    "collapsed": false,
    "ExecuteTime": {
     "end_time": "2023-08-24T13:39:09.141855Z",
     "start_time": "2023-08-24T13:39:05.539640Z"
    }
   },
   "id": "8d4852054997a6cd"
  },
  {
   "cell_type": "markdown",
   "source": [
    "With a working connection, we can insert or update the index template. You can find the required files here:\n",
    "- [settings](./config_files/sg_product_component_settings.json)\n",
    "- [mappings](./config_files/sg_product_component_mappings.json)\n",
    "\n",
    "If you want to learn more about working with index templates with OpenSearch, you can read my blog post:\n",
    "[jettro.dev](https://jettro.dev/using-index-templates-with-elasticsearch-and-opensearch-17f57f5410f)"
   ],
   "metadata": {
    "collapsed": false
   },
   "id": "1a9ad7d68fde8a70"
  },
  {
   "cell_type": "code",
   "execution_count": 8,
   "outputs": [
    {
     "name": "stdout",
     "output_type": "stream",
     "text": [
      "The version 2 of the component template sg_product_component_settings is up-to-date\n",
      "The version 1 of the component template sg_product_component_dynamic_mappings is up-to-date\n",
      "The version 1 of the component template sg_product_component_mappings is up-to-date\n",
      "The version 3 of the index template is up-to-date\n"
     ]
    }
   ],
   "source": [
    "from retriever import OpenSearchTemplate\n",
    "\n",
    "template = OpenSearchTemplate(\n",
    "    client=client,\n",
    "    index_template_name=\"sg_product_index_template\",\n",
    "    component_name_settings=\"sg_product_component_settings\",\n",
    "    component_name_dyn_mappings=\"sg_product_component_dynamic_mappings\",\n",
    "    component_name_mappings=\"sg_product_component_mappings\"\n",
    ")\n",
    "\n",
    "for result in template.create_update_template():\n",
    "    print(result)"
   ],
   "metadata": {
    "collapsed": false,
    "ExecuteTime": {
     "end_time": "2023-08-24T13:46:38.883160Z",
     "start_time": "2023-08-24T13:46:38.512387Z"
    }
   },
   "id": "78b7ecd68640cbda"
  },
  {
   "cell_type": "markdown",
   "source": [
    "Now we are ready to create a new index that makes use of the template we have just created."
   ],
   "metadata": {
    "collapsed": false
   },
   "id": "99f21ca9cffe6159"
  },
  {
   "cell_type": "code",
   "execution_count": 9,
   "outputs": [
    {
     "name": "stdout",
     "output_type": "stream",
     "text": [
      "Index created with the name sg-products-20230824160843\n"
     ]
    }
   ],
   "source": [
    "index_name = client.create_index()\n",
    "print(f\"Index created with the name {index_name}\")\n",
    "\n",
    "client.switch_alias_to(index_name=index_name)"
   ],
   "metadata": {
    "collapsed": false,
    "ExecuteTime": {
     "end_time": "2023-08-24T14:08:43.664285Z",
     "start_time": "2023-08-24T14:08:43.340021Z"
    }
   },
   "id": "6632c202f8fff7da"
  },
  {
   "cell_type": "markdown",
   "source": [
    "Next up, initializing Langchain. We create the vector store wrapper from Langchain. The wrapper needs an embedder to create the vector embeddings. We use OpenAI to create the embddings. We do need an environment variable to connect to OpenAI. The envrionment variables are loaded using the _load_dotenv()_ function. The Vector Store wrapper needs the url to the OpenSearch cluster and the authentication object. These are all initialised using the function some code blocks before _find_auth_opensearch()_.\n",
    "\n",
    "Sometimes we get a message that the session is expired. In that case we need to recreate the OpenSearch client in one of the code blocks above."
   ],
   "metadata": {
    "collapsed": false
   },
   "id": "2fb36016ba11701e"
  },
  {
   "cell_type": "code",
   "execution_count": 10,
   "outputs": [],
   "source": [
    "import os\n",
    "\n",
    "from langchain.vectorstores import OpenSearchVectorSearch\n",
    "from langchain.embeddings import OpenAIEmbeddings\n",
    "from opensearchpy import RequestsHttpConnection\n",
    "from dotenv import load_dotenv\n",
    "\n",
    "load_dotenv()\n",
    "\n",
    "vector_store = OpenSearchVectorSearch(\n",
    "    index_name=index_name,\n",
    "    embedding_function=OpenAIEmbeddings(openai_api_key=os.getenv('OPEN_AI_API_KEY')),\n",
    "    opensearch_url=f\"https://{config['host']}:{config['port']}\",\n",
    "    use_ssl=True,\n",
    "    verify_certs=True,\n",
    "    http_auth=config[\"auth\"],\n",
    "    connection_class=RequestsHttpConnection\n",
    ")"
   ],
   "metadata": {
    "collapsed": false,
    "ExecuteTime": {
     "end_time": "2023-08-24T14:14:21.454036Z",
     "start_time": "2023-08-24T14:14:18.720926Z"
    }
   },
   "id": "8207fb91f5614b35"
  },
  {
   "cell_type": "markdown",
   "source": [
    "With the vector store in place, we can start indexing documents. You can use the kwargs argument to configure some of the engine specific aspects. Two examples that we use are:\n",
    "- text_field: Name of the field to store the text in\n",
    "- vector_field: Name of the field to store the vector in\n"
   ],
   "metadata": {
    "collapsed": false
   },
   "id": "97ba5da122250a6"
  },
  {
   "cell_type": "code",
   "execution_count": 11,
   "outputs": [
    {
     "name": "stdout",
     "output_type": "stream",
     "text": [
      "Inserted 34 documents\n"
     ]
    }
   ],
   "source": [
    "response = vector_store.add_texts(\n",
    "    texts=df[\"title\"].to_list(),\n",
    "    metadatas=df.to_dict('records'),\n",
    "    ids=df[\"id\"].to_list(),\n",
    "    text_field=\"title\",\n",
    "    vector_field=\"title_vector\"\n",
    ")\n",
    "\n",
    "print(f\"Inserted {len(response)} documents\")"
   ],
   "metadata": {
    "collapsed": false,
    "ExecuteTime": {
     "end_time": "2023-08-24T14:18:11.216754Z",
     "start_time": "2023-08-24T14:18:08.481956Z"
    }
   },
   "id": "9e2727d9a8f6645a"
  },
  {
   "cell_type": "markdown",
   "source": [
    "Now we can open the OpenSearch Dashboard and use the Developer Console to look at the indexed data. You can find the console using the following link: [https://search-cdk-os-sg-es-ccgfabzzmjayaqn7vmsb4kvnvu.eu-west-1.es.amazonaws.com/_dashboards/app/dev_tools#/console](https://search-cdk-os-sg-es-ccgfabzzmjayaqn7vmsb4kvnvu.eu-west-1.es.amazonaws.com/_dashboards/app/dev_tools#/console)\n",
    "\n",
    "The next code block shows how to use semantic search and see the difference in results from the lexical search. Both queries only use the title field to search for BirckHeadz."
   ],
   "metadata": {
    "collapsed": false
   },
   "id": "c9beea8ac4e4d971"
  },
  {
   "cell_type": "code",
   "execution_count": 22,
   "outputs": [
    {
     "name": "stdout",
     "output_type": "stream",
     "text": [
      "\n",
      "Results from: OpenSearch using the lexical/index based search.\n",
      "4.6576157 - Harry Potter™ en Cho Chang\n",
      "2.326733 - Harry, Hermelien, Ron & Hagrid™\n",
      "\n",
      "Results from: OpenSearch using the vector store functionality.\n",
      "0.7953482 - Harry Potter™ en Cho Chang\n",
      "0.79218847 - Harry, Hermelien, Ron & Hagrid™\n",
      "0.73784524 - Draco Malfidus™ en Carlo Kannewasser\n",
      "0.7319271 - Leraren van Zweinstein™\n"
     ]
    }
   ],
   "source": [
    "query = \"harry potter\"\n",
    "\n",
    "body = {\"query\": {\"match\": {\"title\": query}}}\n",
    "search_results = client.search(body=body, explain=False)\n",
    "print(f\"\\nResults from: OpenSearch using the lexical/index based search.\")\n",
    "for hit in search_results[\"hits\"][\"hits\"]:\n",
    "    print(f\"{hit['_score']} - {hit['_source']['title']}\")\n",
    "\n",
    "found_docs = vector_store.similarity_search_with_score(query=query, text_field=\"title\", vector_field=\"title_vector\")\n",
    "print(f\"\\nResults from: OpenSearch using the vector store functionality.\")\n",
    "for doc, _score in found_docs:\n",
    "    print(f\"{_score} - {doc.page_content}\")"
   ],
   "metadata": {
    "collapsed": false,
    "ExecuteTime": {
     "end_time": "2023-08-24T14:37:38.373862Z",
     "start_time": "2023-08-24T14:37:38.000726Z"
    }
   },
   "id": "9300a8f36b20df38"
  }
 ],
 "metadata": {
  "kernelspec": {
   "display_name": "Python 3",
   "language": "python",
   "name": "python3"
  },
  "language_info": {
   "codemirror_mode": {
    "name": "ipython",
    "version": 2
   },
   "file_extension": ".py",
   "mimetype": "text/x-python",
   "name": "python",
   "nbconvert_exporter": "python",
   "pygments_lexer": "ipython2",
   "version": "2.7.6"
  }
 },
 "nbformat": 4,
 "nbformat_minor": 5
}
