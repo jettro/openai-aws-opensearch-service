{
 "cells": [
  {
   "cell_type": "code",
   "execution_count": null,
   "metadata": {},
   "outputs": [],
   "source": [
    "#%pip install langchain\n",
    "#%pip install unstructured\n",
    "#%pip install markdown"
   ]
  },
  {
   "cell_type": "markdown",
   "source": [
    "# Import content\n",
    "\n",
    "Start by importing content. The content can be used to create embeddings and store in a vector store.\n",
    "\n",
    "At the moment there are three files that are in the format of smaller blocks of text in a file. The following files with content are available:\n",
    "- help-account.txt\n",
    "- help-search.txt\n",
    "- help-sustainability.txt\n",
    "\n",
    "In the end, all texts are store in an array called _available_texts_.\n"
   ],
   "metadata": {
    "collapsed": false
   }
  },
  {
   "cell_type": "code",
   "execution_count": 2,
   "outputs": [],
   "source": [
    "from langchain.text_splitter import CharacterTextSplitter\n",
    "\n",
    "\n",
    "def split_up_file(file_name: str):\n",
    "    with open(file_name) as split_file:\n",
    "        help_account = split_file.read()\n",
    "\n",
    "    # Problem with this splitter is that it splits, but also merges if the chunk size is not reached. \n",
    "    # BY choosing a small chunk it work fine. But do test id this is what you need.\n",
    "    text_splitter = CharacterTextSplitter(\n",
    "        separator=\"\\n\\n\",\n",
    "        chunk_size=200,\n",
    "        chunk_overlap=0,\n",
    "        length_function=len,\n",
    "        is_separator_regex=False,\n",
    "    )\n",
    "\n",
    "    return text_splitter.create_documents([help_account])\n"
   ],
   "metadata": {
    "collapsed": false,
    "ExecuteTime": {
     "start_time": "2023-08-21T12:38:51.283513Z"
    }
   }
  },
  {
   "cell_type": "code",
   "execution_count": 6,
   "outputs": [
    {
     "name": "stderr",
     "output_type": "stream",
     "text": [
      "Created a chunk of size 302, which is longer than the specified 200\n",
      "Created a chunk of size 310, which is longer than the specified 200\n",
      "Created a chunk of size 278, which is longer than the specified 200\n",
      "Created a chunk of size 244, which is longer than the specified 200\n",
      "Created a chunk of size 205, which is longer than the specified 200\n",
      "Created a chunk of size 218, which is longer than the specified 200\n",
      "Created a chunk of size 253, which is longer than the specified 200\n",
      "Created a chunk of size 228, which is longer than the specified 200\n",
      "Created a chunk of size 203, which is longer than the specified 200\n",
      "Created a chunk of size 282, which is longer than the specified 200\n",
      "Created a chunk of size 247, which is longer than the specified 200\n",
      "Created a chunk of size 234, which is longer than the specified 200\n",
      "Created a chunk of size 242, which is longer than the specified 200\n",
      "Created a chunk of size 256, which is longer than the specified 200\n",
      "Created a chunk of size 234, which is longer than the specified 200\n",
      "Created a chunk of size 215, which is longer than the specified 200\n",
      "Created a chunk of size 257, which is longer than the specified 200\n",
      "Created a chunk of size 313, which is longer than the specified 200\n"
     ]
    },
    {
     "name": "stdout",
     "output_type": "stream",
     "text": [
      "36\n"
     ]
    }
   ],
   "source": [
    "available_texts = (split_up_file('./help-account.txt') \n",
    "                   + split_up_file('./help-search.txt') \n",
    "                   + split_up_file('./help-sustainability.txt'))\n",
    "\n",
    "print(len(available_texts))"
   ],
   "metadata": {
    "collapsed": false,
    "ExecuteTime": {
     "end_time": "2023-08-21T22:10:01.860533Z",
     "start_time": "2023-08-21T22:10:01.844942Z"
    }
   }
  },
  {
   "cell_type": "markdown",
   "source": [
    "There is one other file that has a different structure. This is the shop-locations file. As the structure is different, we made a special importer. The function generates an array of dictionaries containing the available information for a shop.\n"
   ],
   "metadata": {
    "collapsed": false
   }
  },
  {
   "cell_type": "code",
   "execution_count": 16,
   "outputs": [],
   "source": [
    "from unstructured.partition.md import partition_md\n",
    "from unstructured.staging.base import convert_to_dict\n",
    "import os"
   ],
   "metadata": {
    "collapsed": false,
    "ExecuteTime": {
     "end_time": "2023-08-21T22:21:43.518220Z",
     "start_time": "2023-08-21T22:21:43.506695Z"
    }
   }
  },
  {
   "cell_type": "code",
   "execution_count": 17,
   "metadata": {
    "ExecuteTime": {
     "end_time": "2023-08-21T22:22:20.787604Z",
     "start_time": "2023-08-21T22:22:20.781989Z"
    }
   },
   "outputs": [],
   "source": [
    "def extract_store_line(input_string):\n",
    "    # Split the input string by newline and colon\n",
    "    lines = input_string.split('\\n')\n",
    "    data_dict = {}\n",
    "\n",
    "    for line in lines:\n",
    "        if ':' in line:\n",
    "            key, value = line.split(':', 1)\n",
    "            key = key.strip()\n",
    "            value = value.strip()\n",
    "\n",
    "            # Replace spaces with underscores in keys and convert to lowercase\n",
    "            key = key.lower().replace(' ', '_')\n",
    "\n",
    "            data_dict[key] = value\n",
    "\n",
    "    return data_dict\n",
    "\n",
    "\n",
    "def extract_stores():\n",
    "    filename = os.path.join('./', 'help-shop-locations.txt')\n",
    "    with open(filename, \"rb\") as f:\n",
    "        elements = partition_md(filename=filename)\n",
    "\n",
    "    elements_dict = convert_to_dict(elements)\n",
    "    \n",
    "    available_stores = []\n",
    "    current_store = {}\n",
    "    for el in elements_dict:\n",
    "        line_dict = extract_store_line(el[\"text\"])\n",
    "        if \"store_name\" in line_dict:\n",
    "            available_stores.append(current_store)\n",
    "            line_dict[\"opening_hours\"] = []\n",
    "            current_store = line_dict\n",
    "        else:\n",
    "            if current_store.get(\"opening_hours\"):\n",
    "                current_store[\"opening_hours\"].append(line_dict)\n",
    "            else:\n",
    "                current_store[\"opening_hours\"] = [line_dict]\n",
    "    return available_stores"
   ]
  },
  {
   "cell_type": "code",
   "execution_count": 18,
   "metadata": {
    "ExecuteTime": {
     "end_time": "2023-08-21T22:22:22.970972Z",
     "start_time": "2023-08-21T22:22:22.949585Z"
    }
   },
   "outputs": [
    {
     "name": "stdout",
     "output_type": "stream",
     "text": [
      "[{}, {'store_name': 'Trendy Finds', 'city': 'Pijnacker', 'street': 'Kerkweg 1', 'telephone': '06-12345678', 'opening_hours': [{'monday': '11:00-18:00'}, {'tuesday': '09:00-18:00'}, {'wednesday': '09:00-18:00'}, {'thursday': '11:00-18:00'}, {'friday': '09:00-18:00'}, {'saturday': '10:00-17:00'}, {'sunday': 'Closed'}]}, {'store_name': 'Urban Chic Emporium', 'city': 'Rotterdam', 'street': 'Hoogstraat 23', 'telephone': '06-12345678', 'opening_hours': [{'monday': '10:00-18:00'}, {'tuesday': '10:00-18:00'}, {'wednesday': '10:00-18:00'}, {'thursday': '10:00-20:00'}, {'friday': '10:00-18:00'}, {'saturday': '10:00-17:00'}, {'sunday': 'Closed'}]}, {'store_name': 'The Boutique Haven', 'city': 'Ghent', 'street': 'Veldstraat 8', 'telephone': '06-12345678', 'opening_hours': [{'monday': '09:30-18:00'}, {'tuesday': '09:30-18:00'}, {'wednesday': '09:30-18:00'}, {'thursday': '09:30-18:00'}, {'friday': '09:30-20:00'}, {'saturday': '10:00-17:00'}, {'sunday': 'Closed'}]}, {'store_name': 'Chic & Cozy', 'city': 'Antwerp', 'street': 'Meir 12', 'telephone': '06-12345678', 'opening_hours': [{'monday': '10:30-18:00'}, {'tuesday': '10:30-18:00'}, {'wednesday': '10:30-18:00'}, {'thursday': '10:30-18:00'}, {'friday': '10:30-20:00'}, {'saturday': '10:00-17:30'}, {'sunday': 'Closed'}]}, {'store_name': 'Style Haven', 'city': 'Utrecht', 'street': 'Oudegracht 45', 'telephone': '06-12345678', 'opening_hours': [{'monday': '11:00-18:00'}, {'tuesday': '11:00-18:00'}, {'wednesday': '11:00-18:00'}, {'thursday': '11:00-18:00'}, {'friday': '11:00-20:00'}, {'saturday': '10:30-17:30'}, {'sunday': 'Closed'}]}, {'store_name': 'Elegance Essentials', 'city': 'Amsterdam', 'street': 'Kalverstraat 76', 'telephone': '06-12345678', 'opening_hours': [{'monday': '10:00-18:00'}, {'tuesday': '10:00-18:00'}, {'wednesday': '10:00-18:00'}, {'thursday': '10:00-18:00'}, {'friday': '10:00-20:00'}, {'saturday': '10:00-17:00'}, {'sunday': 'Closed'}]}, {'store_name': 'Modern Trends', 'city': 'Brussels', 'street': 'Avenue Louise 112', 'telephone': '06-12345678', 'opening_hours': [{'monday': '09:00-18:00'}, {'tuesday': '09:00-18:00'}, {'wednesday': '09:00-18:00'}, {'thursday': '09:00-18:00'}, {'friday': '09:00-20:00'}, {'saturday': '10:00-17:00'}, {'sunday': 'Closed'}]}, {'store_name': 'Fashion Fusion', 'city': 'Eindhoven', 'street': 'Demer 21', 'telephone': '06-12345678', 'opening_hours': [{'monday': '11:00-18:00'}, {'tuesday': '11:00-18:00'}, {'wednesday': '11:00-18:00'}, {'thursday': '11:00-18:00'}, {'friday': '11:00-20:00'}, {'saturday': '10:30-17:30'}, {'sunday': 'Closed'}]}, {'store_name': 'Urban Elegance', 'city': 'Leuven', 'street': 'Bondgenotenlaan 7', 'telephone': '06-12345678', 'opening_hours': [{'monday': '10:00-18:00'}, {'tuesday': '10:00-18:00'}, {'wednesday': '10:00-18:00'}, {'thursday': '10:00-18:00'}, {'friday': '10:00-20:00'}, {'saturday': '10:00-17:00'}, {'sunday': 'Closed'}]}]\n"
     ]
    }
   ],
   "source": [
    "found_stores = extract_stores()\n",
    "print(found_stores)"
   ]
  }
 ],
 "metadata": {
  "kernelspec": {
   "display_name": ".venv",
   "language": "python",
   "name": "python3"
  },
  "language_info": {
   "codemirror_mode": {
    "name": "ipython",
    "version": 3
   },
   "file_extension": ".py",
   "mimetype": "text/x-python",
   "name": "python",
   "nbconvert_exporter": "python",
   "pygments_lexer": "ipython3",
   "version": "3.11.4"
  },
  "orig_nbformat": 4
 },
 "nbformat": 4,
 "nbformat_minor": 2
}
