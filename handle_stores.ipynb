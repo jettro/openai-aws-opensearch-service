{
 "cells": [
  {
   "cell_type": "markdown",
   "source": [
    "## Import the physical store data.\n",
    "\n",
    "There is one other file that has a different structure. This is the shop-locations file. As the structure is different, we made a special importer. The function generates an array of dictionaries containing the available information for a shop."
   ],
   "metadata": {
    "collapsed": false
   },
   "id": "1588bf2e3f0547ea"
  },
  {
   "cell_type": "code",
   "execution_count": 1,
   "id": "initial_id",
   "metadata": {
    "collapsed": true,
    "ExecuteTime": {
     "end_time": "2023-09-08T09:32:22.809740Z",
     "start_time": "2023-09-08T09:32:20.101171Z"
    }
   },
   "outputs": [],
   "source": [
    "from unstructured.partition.md import partition_md\n",
    "from unstructured.staging.base import convert_to_dict\n",
    "import os"
   ]
  },
  {
   "cell_type": "markdown",
   "source": [
    "## read the data from the source file with store data\n",
    "The store data is in markdown format. Each store has the following structure\n",
    "```txt\n",
    "1. **Store Name:** Trendy Finds\n",
    "   **City:** Pijnacker\n",
    "   **Street:** Kerkweg 1\n",
    "   **Telephone:** 06-12345678\n",
    "   **Opening Hours:**\n",
    "   - Monday: 11:00-18:00\n",
    "   - Tuesday: 09:00-18:00\n",
    "   - Wednesday: 09:00-18:00\n",
    "   - Thursday: 11:00-18:00\n",
    "   - Friday: 09:00-18:00\n",
    "   - Saturday: 10:00-17:00\n",
    "   - Sunday: Closed\n",
    "```"
   ],
   "metadata": {
    "collapsed": false
   },
   "id": "ce486bc2826e1e12"
  },
  {
   "cell_type": "code",
   "execution_count": 2,
   "outputs": [],
   "source": [
    "def extract_store_line(input_string):\n",
    "    # Split the input string by newline and colon\n",
    "    lines = input_string.split('\\n')\n",
    "    data_dict = {}\n",
    "\n",
    "    for line in lines:\n",
    "        if ':' in line:\n",
    "            key, value = line.split(':', 1)\n",
    "            key = key.strip()\n",
    "            value = value.strip()\n",
    "\n",
    "            # Replace spaces with underscores in keys and convert to lowercase\n",
    "            key = key.lower().replace(' ', '_')\n",
    "\n",
    "            data_dict[key] = value\n",
    "\n",
    "    return data_dict\n",
    "\n",
    "\n",
    "def extract_stores():\n",
    "    filename = os.path.join('./data/', 'help-shop-locations.txt')\n",
    "    with open(filename, \"rb\") as f:\n",
    "        elements = partition_md(filename=filename)\n",
    "\n",
    "    elements_dict = convert_to_dict(elements)\n",
    "\n",
    "    available_stores = []\n",
    "    current_store = None\n",
    "    for el in elements_dict:\n",
    "        line_dict = extract_store_line(el[\"text\"])\n",
    "        if \"store_name\" in line_dict:\n",
    "            if current_store is not None:\n",
    "                available_stores.append(current_store)\n",
    "            line_dict[\"opening_hours\"] = []\n",
    "            current_store = line_dict\n",
    "        else:\n",
    "            if current_store.get(\"opening_hours\"):\n",
    "                current_store[\"opening_hours\"].append(line_dict)\n",
    "            else:\n",
    "                current_store[\"opening_hours\"] = [line_dict]\n",
    "    return available_stores"
   ],
   "metadata": {
    "collapsed": false,
    "ExecuteTime": {
     "end_time": "2023-09-04T13:23:28.830841Z",
     "start_time": "2023-09-04T13:23:28.824150Z"
    }
   },
   "id": "a164854080d54bf7"
  },
  {
   "cell_type": "code",
   "execution_count": 3,
   "outputs": [
    {
     "name": "stdout",
     "output_type": "stream",
     "text": [
      "{'store_name': 'Trendy Finds', 'city': 'Pijnacker', 'street': 'Kerkweg 1', 'telephone': '06-12345678', 'opening_hours': [{'monday': '11:00-18:00'}, {'tuesday': '09:00-18:00'}, {'wednesday': '09:00-18:00'}, {'thursday': '11:00-18:00'}, {'friday': '09:00-18:00'}, {'saturday': '10:00-17:00'}, {'sunday': 'Closed'}]}\n"
     ]
    }
   ],
   "source": [
    "found_stores = extract_stores()\n",
    "print(found_stores[0])"
   ],
   "metadata": {
    "collapsed": false,
    "ExecuteTime": {
     "end_time": "2023-09-04T13:23:35.279915Z",
     "start_time": "2023-09-04T13:23:35.030781Z"
    }
   },
   "id": "3c54ceb73ad38637"
  },
  {
   "cell_type": "markdown",
   "source": [
    "## Initialise the connection to our Amazon OpenSearch Service cluster"
   ],
   "metadata": {
    "collapsed": false
   },
   "id": "ccc8f202fd89248f"
  },
  {
   "cell_type": "code",
   "execution_count": 18,
   "outputs": [
    {
     "name": "stdout",
     "output_type": "stream",
     "text": [
      "We have a connection to the Amazon OpenSearch Cluster\n"
     ]
    }
   ],
   "source": [
    "from retriever import find_auth_opensearch, OpenSearchClient\n",
    "\n",
    "config = find_auth_opensearch()\n",
    "client = OpenSearchClient(config, alias_name=\"sg-stores\")\n",
    "\n",
    "if client.ping():\n",
    "    print(\"We have a connection to the Amazon OpenSearch Cluster\")\n",
    "else:\n",
    "    print(\"ERROR: no connection to the Amazon OpenSearch Cluster\")"
   ],
   "metadata": {
    "collapsed": false,
    "ExecuteTime": {
     "end_time": "2023-09-11T18:44:18.101799Z",
     "start_time": "2023-09-11T18:44:17.074920Z"
    }
   },
   "id": "5b74e2d4fcc5cb5a"
  },
  {
   "cell_type": "markdown",
   "source": [
    "## Manage the index template\n",
    "In this section we manage the index template for new indexes for sg_stores."
   ],
   "metadata": {
    "collapsed": false
   },
   "id": "2ca83d24b8adb9e6"
  },
  {
   "cell_type": "code",
   "execution_count": 6,
   "outputs": [
    {
     "name": "stdout",
     "output_type": "stream",
     "text": [
      "The version 1 of the component template sg_stores_component_settings is up-to-date\n",
      "The version 1 of the component template sg_stores_component_dynamic_mappings is up-to-date\n",
      "The version 1 of the component template sg_stores_component_mappings is up-to-date\n",
      "The version 1 of the index template is up-to-date\n"
     ]
    }
   ],
   "source": [
    "from retriever import OpenSearchTemplate\n",
    "\n",
    "template = OpenSearchTemplate(\n",
    "    client=client,\n",
    "    index_template_name=\"sg_stores_index_template\",\n",
    "    component_name_settings=\"sg_stores_component_settings\",\n",
    "    component_name_dyn_mappings=\"sg_stores_component_dynamic_mappings\",\n",
    "    component_name_mappings=\"sg_stores_component_mappings\"\n",
    ")\n",
    "\n",
    "for result in template.create_update_template():\n",
    "    print(result)"
   ],
   "metadata": {
    "collapsed": false,
    "ExecuteTime": {
     "end_time": "2023-09-04T13:23:49.076054Z",
     "start_time": "2023-09-04T13:23:48.570847Z"
    }
   },
   "id": "b4b5d38595935c53"
  },
  {
   "cell_type": "markdown",
   "source": [
    "## Create a new index and load the data\n",
    "First we create a new index, switch the alias to the new index and index all stores into the index"
   ],
   "metadata": {
    "collapsed": false
   },
   "id": "cd5c4463954d43c2"
  },
  {
   "cell_type": "code",
   "execution_count": 7,
   "outputs": [
    {
     "name": "stdout",
     "output_type": "stream",
     "text": [
      "Index created with the name sg-stores-20230904152355\n"
     ]
    }
   ],
   "source": [
    "index_name = client.create_index()\n",
    "print(f\"Index created with the name {index_name}\")\n",
    "\n",
    "client.switch_alias_to(index_name=index_name)"
   ],
   "metadata": {
    "collapsed": false,
    "ExecuteTime": {
     "end_time": "2023-09-04T13:23:55.688343Z",
     "start_time": "2023-09-04T13:23:55.090369Z"
    }
   },
   "id": "b06768ba36619751"
  },
  {
   "cell_type": "code",
   "execution_count": 3,
   "outputs": [
    {
     "ename": "NameError",
     "evalue": "name 'found_stores' is not defined",
     "output_type": "error",
     "traceback": [
      "\u001B[0;31m---------------------------------------------------------------------------\u001B[0m",
      "\u001B[0;31mNameError\u001B[0m                                 Traceback (most recent call last)",
      "Cell \u001B[0;32mIn[3], line 3\u001B[0m\n\u001B[1;32m      1\u001B[0m \u001B[38;5;28;01mimport\u001B[39;00m \u001B[38;5;21;01mcopy\u001B[39;00m\n\u001B[0;32m----> 3\u001B[0m found_stores_for_opensearch \u001B[38;5;241m=\u001B[39m copy\u001B[38;5;241m.\u001B[39mdeepcopy(\u001B[43mfound_stores\u001B[49m)\n\u001B[1;32m      4\u001B[0m \u001B[38;5;28;01mfor\u001B[39;00m found_store \u001B[38;5;129;01min\u001B[39;00m found_stores_for_opensearch:\n\u001B[1;32m      5\u001B[0m     current_opening_hours \u001B[38;5;241m=\u001B[39m found_store[\u001B[38;5;124m\"\u001B[39m\u001B[38;5;124mopening_hours\u001B[39m\u001B[38;5;124m\"\u001B[39m]\n",
      "\u001B[0;31mNameError\u001B[0m: name 'found_stores' is not defined"
     ]
    }
   ],
   "source": [
    "import copy\n",
    "\n",
    "found_stores_for_opensearch = copy.deepcopy(found_stores)\n",
    "for found_store in found_stores_for_opensearch:\n",
    "    current_opening_hours = found_store[\"opening_hours\"]\n",
    "    opening_hours = []\n",
    "    for i in current_opening_hours:\n",
    "        times = list(i.values())[0].split('-')\n",
    "        if len(times) == 2:\n",
    "            opening_hours.append({\"week_day\": list(i.keys())[0], \"open_time\": times[0], \"closing_time\": times[1]})\n",
    "        else:\n",
    "            opening_hours.append({\"week_day\": list(i.keys())[0], \"open_time\": \"00:00\", \"closing_time\": \"00:00\"})\n",
    "    found_store[\"opening_hours\"] = opening_hours\n",
    "\n",
    "print(found_stores_for_opensearch[0])\n"
   ],
   "metadata": {
    "collapsed": false,
    "ExecuteTime": {
     "end_time": "2023-09-08T09:32:42.961082Z",
     "start_time": "2023-09-08T09:32:42.433949Z"
    }
   },
   "id": "6466e3746e714ac7"
  },
  {
   "cell_type": "code",
   "execution_count": 9,
   "outputs": [],
   "source": [
    "import hashlib\n",
    "\n",
    "\n",
    "def generate_unique_id(input_string):\n",
    "    sha256_hash = hashlib.sha256(input_string.encode()).hexdigest()\n",
    "    return sha256_hash\n"
   ],
   "metadata": {
    "collapsed": false,
    "ExecuteTime": {
     "end_time": "2023-09-04T13:24:02.934288Z",
     "start_time": "2023-09-04T13:24:02.922213Z"
    }
   },
   "id": "4435dc759df8dd2"
  },
  {
   "cell_type": "code",
   "execution_count": 13,
   "outputs": [
    {
     "name": "stdout",
     "output_type": "stream",
     "text": [
      "Found 9 shops in the index\n"
     ]
    }
   ],
   "source": [
    "for index_store in found_stores_for_opensearch:\n",
    "    client.index_document(id=generate_unique_id(index_store[\"store_name\"]), document=index_store, index_name=index_name)\n",
    "\n",
    "num_shops = client.count_docs(index_name)[\"count\"]\n",
    "\n",
    "print(f\"Found {num_shops} shops in the index\")"
   ],
   "metadata": {
    "collapsed": false,
    "ExecuteTime": {
     "end_time": "2023-09-04T13:25:14.873274Z",
     "start_time": "2023-09-04T13:25:14.270334Z"
    }
   },
   "id": "185e4472c988467b"
  },
  {
   "cell_type": "markdown",
   "source": [
    "## Query for stores\n",
    "With the stores in an index, we can query the stores. "
   ],
   "metadata": {
    "collapsed": false
   },
   "id": "16624c8b42b6c482"
  },
  {
   "cell_type": "code",
   "execution_count": 33,
   "outputs": [],
   "source": [
    "def print_results(os_results):\n",
    "    if os_results[\"hits\"][\"total\"][\"value\"] > 0:\n",
    "        for hit in os_results[\"hits\"][\"hits\"]:\n",
    "            print(hit[\"_source\"][\"city\"])\n",
    "            print(hit[\"_source\"][\"store_name\"])\n",
    "            print(\"---\")\n",
    "    else:\n",
    "        print(\"No stores have been found\")"
   ],
   "metadata": {
    "collapsed": false,
    "ExecuteTime": {
     "end_time": "2023-09-11T19:15:53.907882Z",
     "start_time": "2023-09-11T19:15:53.893506Z"
    }
   },
   "id": "8e7a7929a9f73de3"
  },
  {
   "cell_type": "code",
   "execution_count": 7,
   "outputs": [
    {
     "name": "stdout",
     "output_type": "stream",
     "text": [
      "{'took': 1, 'timed_out': False, '_shards': {'total': 1, 'successful': 1, 'skipped': 0, 'failed': 0}, 'hits': {'total': {'value': 1, 'relation': 'eq'}, 'max_score': 1.89712, 'hits': [{'_index': 'sg-stores-20230904152355', '_id': '2309e441651eb449db75ef2864ef56b5dfe75654e0f83dbcb8c95882930fecf8', '_score': 1.89712, '_source': {'store_name': 'Elegance Essentials', 'city': 'Amsterdam', 'street': 'Kalverstraat 76', 'telephone': '06-12345678', 'opening_hours': [{'week_day': 'monday', 'open_time': '10:00', 'closing_time': '18:00'}, {'week_day': 'tuesday', 'open_time': '10:00', 'closing_time': '18:00'}, {'week_day': 'wednesday', 'open_time': '10:00', 'closing_time': '18:00'}, {'week_day': 'thursday', 'open_time': '10:00', 'closing_time': '18:00'}, {'week_day': 'friday', 'open_time': '10:00', 'closing_time': '20:00'}, {'week_day': 'saturday', 'open_time': '10:00', 'closing_time': '17:00'}, {'week_day': 'sunday', 'open_time': '00:00', 'closing_time': '00:00'}]}}]}}\n"
     ]
    }
   ],
   "source": [
    "query = {\n",
    "    \"query\": {\n",
    "        \"match\": {\n",
    "            \"city\": \"amsterdam\"\n",
    "        }\n",
    "    }\n",
    "}\n",
    "\n",
    "results = client.search(body=query)\n",
    "\n",
    "print(results)"
   ],
   "metadata": {
    "collapsed": false,
    "ExecuteTime": {
     "end_time": "2023-09-11T17:40:27.204008Z",
     "start_time": "2023-09-11T17:40:27.157837Z"
    }
   },
   "id": "6238e8d0be5bfe80"
  },
  {
   "cell_type": "markdown",
   "source": [
    "## Experiment: Let an LLM generate the query\n",
    "Using input from the user create a query that can immediately be executed against OpenSearch."
   ],
   "metadata": {
    "collapsed": false
   },
   "id": "e967c9e11136fc15"
  },
  {
   "cell_type": "code",
   "execution_count": 25,
   "outputs": [
    {
     "name": "stdout",
     "output_type": "stream",
     "text": [
      "Amsterdam\n"
     ]
    }
   ],
   "source": [
    "from dotenv import load_dotenv\n",
    "from langchain.llms import OpenAI\n",
    "from langchain.prompts import PromptTemplate\n",
    "from langchain.chains import LLMChain\n",
    "\n",
    "load_dotenv()\n",
    "\n",
    "prompt_template = PromptTemplate(\n",
    "    input_variables=[\"question\"],\n",
    "    template='You are a system that generates an Elasticsearch query. '\n",
    "             + 'The index: sg-stores '\n",
    "             + 'Fields: '\n",
    "             + 'store_name: text, city: text, street: text, telephone: text '\n",
    "             + 'Nested field: '\n",
    "             + 'opening_hours, with fields: '\n",
    "             + 'week_day: text, open_time: strict_hour_minute, closing_time: strict_hour_minute'\n",
    "             + 'write the query that follows the question from the user: {question}. '\n",
    "             + 'The output must be the pure json containing the query, nothing else.')\n",
    "\n",
    "llm = OpenAI(openai_api_key=os.getenv('OPEN_AI_API_KEY'), model_name=\"gpt-4-0613\", temperature=0.1)\n",
    "\n",
    "chain = LLMChain(llm=llm, prompt=prompt_template)\n"
   ],
   "metadata": {
    "collapsed": false,
    "ExecuteTime": {
     "end_time": "2023-09-11T19:08:51.197510Z",
     "start_time": "2023-09-11T19:08:36.652140Z"
    }
   },
   "id": "9b51fa725580eb"
  },
  {
   "cell_type": "code",
   "execution_count": 44,
   "outputs": [
    {
     "name": "stdout",
     "output_type": "stream",
     "text": [
      "Pijnacker\n",
      "Trendy Finds\n",
      "---\n"
     ]
    }
   ],
   "source": [
    "# result = chain.run(\"Find a store that is open on friday at 15:00 in pijnacker\")\n",
    "gen_query = chain.run(\"Is the store in Pijnacker open on monday at 16:00\")\n",
    "# print(gen_query)\n",
    "results = client.search(body=gen_query)\n",
    "\n",
    "print_results(results)"
   ],
   "metadata": {
    "collapsed": false,
    "ExecuteTime": {
     "end_time": "2023-09-11T19:24:19.476951Z",
     "start_time": "2023-09-11T19:24:02.808874Z"
    }
   },
   "id": "2ba2da6e0b56913e"
  }
 ],
 "metadata": {
  "kernelspec": {
   "display_name": "Python 3",
   "language": "python",
   "name": "python3"
  },
  "language_info": {
   "codemirror_mode": {
    "name": "ipython",
    "version": 2
   },
   "file_extension": ".py",
   "mimetype": "text/x-python",
   "name": "python",
   "nbconvert_exporter": "python",
   "pygments_lexer": "ipython2",
   "version": "2.7.6"
  }
 },
 "nbformat": 4,
 "nbformat_minor": 5
}
