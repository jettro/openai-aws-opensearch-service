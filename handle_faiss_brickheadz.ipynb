{
 "cells": [
  {
   "cell_type": "markdown",
   "source": [
    "# Importing LEGO® BrickHeadz™ data into a vector store\n",
    "![Do you know Wally?](./images/40619_small.png)\n",
    "\n",
    "This notebook makes use of data obtained from the LEGO® BrickHeadz™ website. We used the online offering from [browse.ai](https://browse.ai) to create a CSV file. You can find the data in the [extract-data-brickheadz.csv](./data/extract-data-brickheadz.csv).\n",
    "\n",
    "The file contains a number of columns that we want to retain to improve the search options. Therefore we first read and extend the data using Pandas. After that we use the API from [OpenAI](https://www.openai.com) to create the embeddings."
   ],
   "metadata": {
    "collapsed": false
   },
   "id": "a8ba5c7c776f12b8"
  },
  {
   "cell_type": "code",
   "execution_count": 53,
   "outputs": [
    {
     "data": {
      "text/plain": "True"
     },
     "execution_count": 53,
     "metadata": {},
     "output_type": "execute_result"
    }
   ],
   "source": [
    "from dotenv import load_dotenv\n",
    "# Load environment variables to load the OpenAI key.\n",
    "load_dotenv()"
   ],
   "metadata": {
    "collapsed": false,
    "ExecuteTime": {
     "end_time": "2023-08-28T10:19:45.672436Z",
     "start_time": "2023-08-28T10:19:45.661411Z"
    }
   },
   "id": "24246ea19975623c"
  },
  {
   "cell_type": "markdown",
   "source": [
    "## Load the data into a Pandas DataSet\n",
    "The csv file is created using Browse.ai on the original LEGO website. We extract the filename of the image from the url. We can use the name to find the image that is in the images folder. We also need to provide an id, we have chosen to use the Position column as the id. The Position column is an integer going from 1 to 34."
   ],
   "metadata": {
    "collapsed": false
   },
   "id": "f072dc7b0ed6b4a8"
  },
  {
   "cell_type": "code",
   "execution_count": 54,
   "id": "initial_id",
   "metadata": {
    "collapsed": true,
    "ExecuteTime": {
     "end_time": "2023-08-28T10:19:50.804706Z",
     "start_time": "2023-08-28T10:19:50.783702Z"
    }
   },
   "outputs": [
    {
     "data": {
      "text/plain": "   Position                                       product_link  age  \\\n0         1  https://www.lego.com/nl-nl/product/professors-...  10+   \n1         2  https://www.lego.com/nl-nl/product/harry-hermi...  10+   \n2         3  https://www.lego.com/nl-nl/product/chip-dale-4...  10+   \n3         4  https://www.lego.com/nl-nl/product/woody-and-b...  10+   \n4         5  https://www.lego.com/nl-nl/product/goofy-pluto...  10+   \n\n   number_of_pieces                            title   price  \\\n0               601          Leraren van Zweinstein™  €39,99   \n1               466  Harry, Hermelien, Ron & Hagrid™  €24,99   \n2               226                 Knabbel & Babbel  €19,99   \n3               296                  Woody & Bo Peep  €19,99   \n4               214                   Goofy en Pluto  €14,99   \n\n                                          image_link  \\\n0  https://www.lego.com/cdn/cs/set/assets/blt8c72...   \n1  https://www.lego.com/cdn/cs/set/assets/bltbc78...   \n2  https://www.lego.com/cdn/cs/set/assets/blt0bac...   \n3  https://www.lego.com/cdn/cs/set/assets/blt2bea...   \n4  https://www.lego.com/cdn/cs/set/assets/blt4306...   \n\n                                 product_description image_name  id  \n0  Dit is een betoverende verrassing voor fans va...  40560.png   1  \n1  LEGO® BrickHeadz™ versies van 4 van de bekends...  40495.jpg   2  \n2  Keer terug naar je jeugd met deze leuke LEGO® ...  40550.png   3  \n3  Zorg dat je twee favoriete filmpersonages alti...  40553.png   4  \n4  Deze Goofy en Pluto set (40378) met 2 klassiek...  40378.jpg   5  ",
      "text/html": "<div>\n<style scoped>\n    .dataframe tbody tr th:only-of-type {\n        vertical-align: middle;\n    }\n\n    .dataframe tbody tr th {\n        vertical-align: top;\n    }\n\n    .dataframe thead th {\n        text-align: right;\n    }\n</style>\n<table border=\"1\" class=\"dataframe\">\n  <thead>\n    <tr style=\"text-align: right;\">\n      <th></th>\n      <th>Position</th>\n      <th>product_link</th>\n      <th>age</th>\n      <th>number_of_pieces</th>\n      <th>title</th>\n      <th>price</th>\n      <th>image_link</th>\n      <th>product_description</th>\n      <th>image_name</th>\n      <th>id</th>\n    </tr>\n  </thead>\n  <tbody>\n    <tr>\n      <th>0</th>\n      <td>1</td>\n      <td>https://www.lego.com/nl-nl/product/professors-...</td>\n      <td>10+</td>\n      <td>601</td>\n      <td>Leraren van Zweinstein™</td>\n      <td>€39,99</td>\n      <td>https://www.lego.com/cdn/cs/set/assets/blt8c72...</td>\n      <td>Dit is een betoverende verrassing voor fans va...</td>\n      <td>40560.png</td>\n      <td>1</td>\n    </tr>\n    <tr>\n      <th>1</th>\n      <td>2</td>\n      <td>https://www.lego.com/nl-nl/product/harry-hermi...</td>\n      <td>10+</td>\n      <td>466</td>\n      <td>Harry, Hermelien, Ron &amp; Hagrid™</td>\n      <td>€24,99</td>\n      <td>https://www.lego.com/cdn/cs/set/assets/bltbc78...</td>\n      <td>LEGO® BrickHeadz™ versies van 4 van de bekends...</td>\n      <td>40495.jpg</td>\n      <td>2</td>\n    </tr>\n    <tr>\n      <th>2</th>\n      <td>3</td>\n      <td>https://www.lego.com/nl-nl/product/chip-dale-4...</td>\n      <td>10+</td>\n      <td>226</td>\n      <td>Knabbel &amp; Babbel</td>\n      <td>€19,99</td>\n      <td>https://www.lego.com/cdn/cs/set/assets/blt0bac...</td>\n      <td>Keer terug naar je jeugd met deze leuke LEGO® ...</td>\n      <td>40550.png</td>\n      <td>3</td>\n    </tr>\n    <tr>\n      <th>3</th>\n      <td>4</td>\n      <td>https://www.lego.com/nl-nl/product/woody-and-b...</td>\n      <td>10+</td>\n      <td>296</td>\n      <td>Woody &amp; Bo Peep</td>\n      <td>€19,99</td>\n      <td>https://www.lego.com/cdn/cs/set/assets/blt2bea...</td>\n      <td>Zorg dat je twee favoriete filmpersonages alti...</td>\n      <td>40553.png</td>\n      <td>4</td>\n    </tr>\n    <tr>\n      <th>4</th>\n      <td>5</td>\n      <td>https://www.lego.com/nl-nl/product/goofy-pluto...</td>\n      <td>10+</td>\n      <td>214</td>\n      <td>Goofy en Pluto</td>\n      <td>€14,99</td>\n      <td>https://www.lego.com/cdn/cs/set/assets/blt4306...</td>\n      <td>Deze Goofy en Pluto set (40378) met 2 klassiek...</td>\n      <td>40378.jpg</td>\n      <td>5</td>\n    </tr>\n  </tbody>\n</table>\n</div>"
     },
     "execution_count": 54,
     "metadata": {},
     "output_type": "execute_result"
    }
   ],
   "source": [
    "import pandas as pd\n",
    "\n",
    "df = pd.read_csv('./data/extract-data-brickheadz.csv')\n",
    "df[\"image_name\"] = df[\"image_link\"].str.rsplit('/').str.get(-1)\n",
    "df[\"id\"] = df[\"Position\"]\n",
    "\n",
    "df.head()\n"
   ]
  },
  {
   "cell_type": "markdown",
   "source": [
    "## Add embeddings\n",
    "We add embeddings for the title field to the DataSet using the OpenAI API. We use the current best suggested model called _text-embedding-ada-002_. The method _create_embedding_ can be re-used to create a vector for the search query later on in the Notebook."
   ],
   "metadata": {
    "collapsed": false
   },
   "id": "7279136049e0ffd3"
  },
  {
   "cell_type": "code",
   "execution_count": 55,
   "outputs": [],
   "source": [
    "import openai\n",
    "import os\n",
    "\n",
    "openai.api_key=os.getenv('OPEN_AI_API_KEY')\n"
   ],
   "metadata": {
    "collapsed": false,
    "ExecuteTime": {
     "end_time": "2023-08-28T10:19:55.210492Z",
     "start_time": "2023-08-28T10:19:55.202945Z"
    }
   },
   "id": "46dd0120d768bcfd"
  },
  {
   "cell_type": "code",
   "execution_count": 56,
   "outputs": [
    {
     "data": {
      "text/plain": "   Position                                       product_link  age  \\\n0         1  https://www.lego.com/nl-nl/product/professors-...  10+   \n1         2  https://www.lego.com/nl-nl/product/harry-hermi...  10+   \n2         3  https://www.lego.com/nl-nl/product/chip-dale-4...  10+   \n3         4  https://www.lego.com/nl-nl/product/woody-and-b...  10+   \n4         5  https://www.lego.com/nl-nl/product/goofy-pluto...  10+   \n\n   number_of_pieces                            title   price  \\\n0               601          Leraren van Zweinstein™  €39,99   \n1               466  Harry, Hermelien, Ron & Hagrid™  €24,99   \n2               226                 Knabbel & Babbel  €19,99   \n3               296                  Woody & Bo Peep  €19,99   \n4               214                   Goofy en Pluto  €14,99   \n\n                                          image_link  \\\n0  https://www.lego.com/cdn/cs/set/assets/blt8c72...   \n1  https://www.lego.com/cdn/cs/set/assets/bltbc78...   \n2  https://www.lego.com/cdn/cs/set/assets/blt0bac...   \n3  https://www.lego.com/cdn/cs/set/assets/blt2bea...   \n4  https://www.lego.com/cdn/cs/set/assets/blt4306...   \n\n                                 product_description image_name  id  \\\n0  Dit is een betoverende verrassing voor fans va...  40560.png   1   \n1  LEGO® BrickHeadz™ versies van 4 van de bekends...  40495.jpg   2   \n2  Keer terug naar je jeugd met deze leuke LEGO® ...  40550.png   3   \n3  Zorg dat je twee favoriete filmpersonages alti...  40553.png   4   \n4  Deze Goofy en Pluto set (40378) met 2 klassiek...  40378.jpg   5   \n\n                                           embedding  \n0  [0.0008713240385986865, -0.024097014218568802,...  \n1  [-0.01215097401291132, -0.019284188747406006, ...  \n2  [-0.015514383092522621, -0.026714883744716644,...  \n3  [-0.03133436664938927, -0.02872316911816597, 0...  \n4  [-0.011258577927947044, -0.027819199487566948,...  ",
      "text/html": "<div>\n<style scoped>\n    .dataframe tbody tr th:only-of-type {\n        vertical-align: middle;\n    }\n\n    .dataframe tbody tr th {\n        vertical-align: top;\n    }\n\n    .dataframe thead th {\n        text-align: right;\n    }\n</style>\n<table border=\"1\" class=\"dataframe\">\n  <thead>\n    <tr style=\"text-align: right;\">\n      <th></th>\n      <th>Position</th>\n      <th>product_link</th>\n      <th>age</th>\n      <th>number_of_pieces</th>\n      <th>title</th>\n      <th>price</th>\n      <th>image_link</th>\n      <th>product_description</th>\n      <th>image_name</th>\n      <th>id</th>\n      <th>embedding</th>\n    </tr>\n  </thead>\n  <tbody>\n    <tr>\n      <th>0</th>\n      <td>1</td>\n      <td>https://www.lego.com/nl-nl/product/professors-...</td>\n      <td>10+</td>\n      <td>601</td>\n      <td>Leraren van Zweinstein™</td>\n      <td>€39,99</td>\n      <td>https://www.lego.com/cdn/cs/set/assets/blt8c72...</td>\n      <td>Dit is een betoverende verrassing voor fans va...</td>\n      <td>40560.png</td>\n      <td>1</td>\n      <td>[0.0008713240385986865, -0.024097014218568802,...</td>\n    </tr>\n    <tr>\n      <th>1</th>\n      <td>2</td>\n      <td>https://www.lego.com/nl-nl/product/harry-hermi...</td>\n      <td>10+</td>\n      <td>466</td>\n      <td>Harry, Hermelien, Ron &amp; Hagrid™</td>\n      <td>€24,99</td>\n      <td>https://www.lego.com/cdn/cs/set/assets/bltbc78...</td>\n      <td>LEGO® BrickHeadz™ versies van 4 van de bekends...</td>\n      <td>40495.jpg</td>\n      <td>2</td>\n      <td>[-0.01215097401291132, -0.019284188747406006, ...</td>\n    </tr>\n    <tr>\n      <th>2</th>\n      <td>3</td>\n      <td>https://www.lego.com/nl-nl/product/chip-dale-4...</td>\n      <td>10+</td>\n      <td>226</td>\n      <td>Knabbel &amp; Babbel</td>\n      <td>€19,99</td>\n      <td>https://www.lego.com/cdn/cs/set/assets/blt0bac...</td>\n      <td>Keer terug naar je jeugd met deze leuke LEGO® ...</td>\n      <td>40550.png</td>\n      <td>3</td>\n      <td>[-0.015514383092522621, -0.026714883744716644,...</td>\n    </tr>\n    <tr>\n      <th>3</th>\n      <td>4</td>\n      <td>https://www.lego.com/nl-nl/product/woody-and-b...</td>\n      <td>10+</td>\n      <td>296</td>\n      <td>Woody &amp; Bo Peep</td>\n      <td>€19,99</td>\n      <td>https://www.lego.com/cdn/cs/set/assets/blt2bea...</td>\n      <td>Zorg dat je twee favoriete filmpersonages alti...</td>\n      <td>40553.png</td>\n      <td>4</td>\n      <td>[-0.03133436664938927, -0.02872316911816597, 0...</td>\n    </tr>\n    <tr>\n      <th>4</th>\n      <td>5</td>\n      <td>https://www.lego.com/nl-nl/product/goofy-pluto...</td>\n      <td>10+</td>\n      <td>214</td>\n      <td>Goofy en Pluto</td>\n      <td>€14,99</td>\n      <td>https://www.lego.com/cdn/cs/set/assets/blt4306...</td>\n      <td>Deze Goofy en Pluto set (40378) met 2 klassiek...</td>\n      <td>40378.jpg</td>\n      <td>5</td>\n      <td>[-0.011258577927947044, -0.027819199487566948,...</td>\n    </tr>\n  </tbody>\n</table>\n</div>"
     },
     "execution_count": 56,
     "metadata": {},
     "output_type": "execute_result"
    }
   ],
   "source": [
    "def create_embedding(input_str: str):\n",
    "    embedding_response = openai.Embedding.create(\n",
    "       model=\"text-embedding-ada-002\",\n",
    "       input=input_str\n",
    "    )    \n",
    "    return embedding_response[\"data\"][0][\"embedding\"]\n",
    "\n",
    "df[\"embedding\"] = df[\"title\"].apply(create_embedding)\n",
    "df.head()"
   ],
   "metadata": {
    "collapsed": false,
    "ExecuteTime": {
     "end_time": "2023-08-28T10:20:12.547663Z",
     "start_time": "2023-08-28T10:19:57.473764Z"
    }
   },
   "id": "94f49b982bb03c26"
  },
  {
   "cell_type": "code",
   "execution_count": 57,
   "outputs": [
    {
     "name": "stdout",
     "output_type": "stream",
     "text": [
      "Number of dimensions in embedding '1536'\n"
     ]
    }
   ],
   "source": [
    "print(f\"Number of dimensions in embedding '{len(df.loc[0, 'embedding'])}'\")"
   ],
   "metadata": {
    "collapsed": false,
    "ExecuteTime": {
     "end_time": "2023-08-28T10:20:17.311384Z",
     "start_time": "2023-08-28T10:20:17.300674Z"
    }
   },
   "id": "11ddaa3ebe4d1c1b"
  },
  {
   "cell_type": "markdown",
   "source": [
    "## Use FAISS to play with the embeddings we have created\n",
    "Searching for vectors is easy using the FAISS index. There are multiple types of indexes to use. Some of the indexes need to be trained. Other do not. You can check if training is required using the _is_trained_ flag on the index. Creating the index uses the name of the index together with the distance calculation method. For example, the next line creates a _Flat_ index and uses the _L2_ distance calculation\n",
    "\n",
    "```Python\n",
    "index = faiss.IndexFlatL2(dimension)\n",
    "```"
   ],
   "metadata": {
    "collapsed": false
   },
   "id": "90777f9fa034c7c0"
  },
  {
   "cell_type": "code",
   "execution_count": 58,
   "outputs": [],
   "source": [
    "import faiss\n",
    "import numpy as np\n",
    "\n",
    "available_embeddings = df[\"embedding\"].to_list()\n",
    "dimension = len(available_embeddings[0])\n",
    "\n",
    "embeddings = np.array(available_embeddings).astype('float32')"
   ],
   "metadata": {
    "collapsed": false,
    "ExecuteTime": {
     "end_time": "2023-08-28T10:20:21.502827Z",
     "start_time": "2023-08-28T10:20:21.493862Z"
    }
   },
   "id": "c088fd89c4d8f5be"
  },
  {
   "cell_type": "code",
   "execution_count": 65,
   "outputs": [],
   "source": [
    "def search_for(faiss_index, _query: str, num_results: int = 4):\n",
    "    k = num_results\n",
    "    query_embedding = create_embedding(_query)\n",
    "    query_vector = np.array([query_embedding]).astype('float32')\n",
    "    distances, indexes = faiss_index.search(query_vector, k)\n",
    "    \n",
    "    output = []\n",
    "    for i in range(len(indexes[0])):\n",
    "        item = {\n",
    "            'id': indexes[0][i],\n",
    "            'title': df.loc[indexes[0][i], 'title'],\n",
    "            'distance': distances[0][i]\n",
    "        }\n",
    "        output.append(item)\n",
    "    \n",
    "    return output\n",
    "\n",
    "def print_found_brickheadz(brickheads: list):\n",
    "    for brickhead in brickheads:\n",
    "        print(f\"{brickhead['id']:2d} - {brickhead['distance']:1.5f} - {brickhead['title']}\")\n",
    "        "
   ],
   "metadata": {
    "collapsed": false,
    "ExecuteTime": {
     "end_time": "2023-08-28T10:28:44.245378Z",
     "start_time": "2023-08-28T10:28:44.239991Z"
    }
   },
   "id": "21cafcee7d60e04c"
  },
  {
   "cell_type": "markdown",
   "source": [
    "### Search using FAISS - Flat/L2\n",
    "The flat index is what we call an exhaustive search. We compare the query vector with all the available other vectors."
   ],
   "metadata": {
    "collapsed": false
   },
   "id": "6276d81373972ea"
  },
  {
   "cell_type": "code",
   "execution_count": 68,
   "outputs": [
    {
     "name": "stdout",
     "output_type": "stream",
     "text": [
      "The index Flat is trained: True\n",
      "The index now has 34 documents or embeddings\n"
     ]
    }
   ],
   "source": [
    "index = faiss.IndexFlatL2(dimension)\n",
    "print(f\"The index Flat is trained: {index.is_trained}\")\n",
    "index.add(embeddings)\n",
    "print(f\"The index now has {index.ntotal} documents or embeddings\")"
   ],
   "metadata": {
    "collapsed": false,
    "ExecuteTime": {
     "start_time": "2023-08-28T10:29:29.375783Z"
    }
   },
   "id": "83a66ab2de7c4330"
  },
  {
   "cell_type": "code",
   "execution_count": 69,
   "outputs": [
    {
     "name": "stdout",
     "output_type": "stream",
     "text": [
      "17 - 0.25697 - Harry Potter™ en Cho Chang\n",
      " 1 - 0.26224 - Harry, Hermelien, Ron & Hagrid™\n",
      "15 - 0.35549 - Draco Malfidus™ en Carlo Kannewasser\n",
      " 0 - 0.36621 - Leraren van Zweinstein™\n"
     ]
    }
   ],
   "source": [
    "print_found_brickheadz(search_for(index, \"harry potter\"))"
   ],
   "metadata": {
    "collapsed": false,
    "ExecuteTime": {
     "start_time": "2023-08-28T10:29:33.267557Z"
    }
   },
   "id": "bdb4dcaa46fa4f42"
  },
  {
   "cell_type": "markdown",
   "source": [
    "## Search using FAISS - HNSW-Flat\n",
    "Using HNSW means we are moving to an approximate index "
   ],
   "metadata": {
    "collapsed": false
   },
   "id": "bb0acab496604a72"
  },
  {
   "cell_type": "code",
   "execution_count": 70,
   "outputs": [
    {
     "name": "stdout",
     "output_type": "stream",
     "text": [
      "The index HNSW Flat is trained: True\n",
      "The index now has 34 documents or embeddings\n"
     ]
    }
   ],
   "source": [
    "number_connections = 64\n",
    "ef_search = 32\n",
    "ef_construction = 64\n",
    "\n",
    "index_hnsw = faiss.IndexHNSWFlat(dimension, number_connections)\n",
    "index_hnsw.hnsw.efConstruction = ef_construction\n",
    "index_hnsw.hnsw.efSearch = ef_search\n",
    "print(f\"The index HNSW Flat is trained: {index_hnsw.is_trained}\")\n",
    "\n",
    "index_hnsw.add(embeddings)\n",
    "print(f\"The index now has {index_hnsw.ntotal} documents or embeddings\")"
   ],
   "metadata": {
    "collapsed": false,
    "ExecuteTime": {
     "end_time": "2023-08-28T10:31:36.889947Z",
     "start_time": "2023-08-28T10:31:36.880651Z"
    }
   },
   "id": "531abac78bd11d85"
  },
  {
   "cell_type": "code",
   "execution_count": 71,
   "outputs": [
    {
     "name": "stdout",
     "output_type": "stream",
     "text": [
      "17 - 0.25706 - Harry Potter™ en Cho Chang\n",
      " 1 - 0.26233 - Harry, Hermelien, Ron & Hagrid™\n",
      "15 - 0.35560 - Draco Malfidus™ en Carlo Kannewasser\n",
      " 0 - 0.36623 - Leraren van Zweinstein™\n"
     ]
    }
   ],
   "source": [
    "print_found_brickheadz(search_for(faiss_index=index_hnsw, _query=\"harry potter\"))"
   ],
   "metadata": {
    "collapsed": false,
    "ExecuteTime": {
     "end_time": "2023-08-28T10:31:41.236552Z",
     "start_time": "2023-08-28T10:31:40.951569Z"
    }
   },
   "id": "bf9429455eb0723c"
  },
  {
   "cell_type": "markdown",
   "source": [
    "## Search using FAISS - IVF-Flat\n",
    "Using IVF means we are using an approximate index. Beware that due to our limited dataset, training the clustering of IVF is not working great. We are ignoring the warning for now, but we should not. "
   ],
   "metadata": {
    "collapsed": false
   },
   "id": "6d3656780f69cdab"
  },
  {
   "cell_type": "code",
   "execution_count": 78,
   "outputs": [
    {
     "name": "stdout",
     "output_type": "stream",
     "text": [
      "The index HNSW Flat is trained: False\n",
      "The index HNSW Flat is trained: True\n",
      "The index now has 34 documents or embeddings\n"
     ]
    },
    {
     "name": "stderr",
     "output_type": "stream",
     "text": [
      "WARNING clustering 34 points to 4 centroids: please provide at least 156 training points\n"
     ]
    }
   ],
   "source": [
    "nlist = 4\n",
    "\n",
    "quantizer = faiss.IndexFlatL2(dimension)\n",
    "index_ivf = faiss.IndexIVFFlat(quantizer, dimension, nlist)\n",
    "print(f\"The index HNSW Flat is trained: {index_ivf.is_trained}\")\n",
    "index_ivf.train(embeddings)\n",
    "print(f\"The index HNSW Flat is trained: {index_ivf.is_trained}\")\n",
    "\n",
    "index_ivf.add(embeddings)\n",
    "print(f\"The index now has {index_ivf.ntotal} documents or embeddings\")"
   ],
   "metadata": {
    "collapsed": false,
    "ExecuteTime": {
     "end_time": "2023-08-28T10:39:59.549985Z",
     "start_time": "2023-08-28T10:39:59.507814Z"
    }
   },
   "id": "5fc1f21bd863e9df"
  },
  {
   "cell_type": "code",
   "execution_count": 79,
   "outputs": [
    {
     "name": "stdout",
     "output_type": "stream",
     "text": [
      "17 - 0.25702 - Harry Potter™ en Cho Chang\n",
      " 1 - 0.26239 - Harry, Hermelien, Ron & Hagrid™\n",
      "15 - 0.35563 - Draco Malfidus™ en Carlo Kannewasser\n",
      "25 - 0.37717 - Frodo™ & Gollem™\n"
     ]
    }
   ],
   "source": [
    "index_ivf.nprobe = 2\n",
    "print_found_brickheadz(search_for(faiss_index=index_ivf, _query=\"harry potter\"))"
   ],
   "metadata": {
    "collapsed": false,
    "ExecuteTime": {
     "end_time": "2023-08-28T10:40:59.381054Z",
     "start_time": "2023-08-28T10:40:58.848340Z"
    }
   },
   "id": "7022af1e0fad1ef8"
  }
 ],
 "metadata": {
  "kernelspec": {
   "display_name": "Python 3",
   "language": "python",
   "name": "python3"
  },
  "language_info": {
   "codemirror_mode": {
    "name": "ipython",
    "version": 2
   },
   "file_extension": ".py",
   "mimetype": "text/x-python",
   "name": "python",
   "nbconvert_exporter": "python",
   "pygments_lexer": "ipython2",
   "version": "2.7.6"
  }
 },
 "nbformat": 4,
 "nbformat_minor": 5
}
