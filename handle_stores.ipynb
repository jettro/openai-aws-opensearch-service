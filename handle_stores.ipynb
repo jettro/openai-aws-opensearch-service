{
 "cells": [
  {
   "cell_type": "markdown",
   "source": [
    "## Import the physical store data.\n",
    "\n",
    "There is one other file that has a different structure. This is the shop-locations file. As the structure is different, we made a special importer. The function generates an array of dictionaries containing the available information for a shop."
   ],
   "metadata": {
    "collapsed": false
   },
   "id": "1588bf2e3f0547ea"
  },
  {
   "cell_type": "code",
   "execution_count": 1,
   "id": "initial_id",
   "metadata": {
    "collapsed": true,
    "ExecuteTime": {
     "end_time": "2023-09-04T13:23:27.420235Z",
     "start_time": "2023-09-04T13:23:24.829243Z"
    }
   },
   "outputs": [],
   "source": [
    "from unstructured.partition.md import partition_md\n",
    "from unstructured.staging.base import convert_to_dict\n",
    "import os"
   ]
  },
  {
   "cell_type": "code",
   "execution_count": 2,
   "outputs": [],
   "source": [
    "def extract_store_line(input_string):\n",
    "    # Split the input string by newline and colon\n",
    "    lines = input_string.split('\\n')\n",
    "    data_dict = {}\n",
    "\n",
    "    for line in lines:\n",
    "        if ':' in line:\n",
    "            key, value = line.split(':', 1)\n",
    "            key = key.strip()\n",
    "            value = value.strip()\n",
    "\n",
    "            # Replace spaces with underscores in keys and convert to lowercase\n",
    "            key = key.lower().replace(' ', '_')\n",
    "\n",
    "            data_dict[key] = value\n",
    "\n",
    "    return data_dict\n",
    "\n",
    "\n",
    "def extract_stores():\n",
    "    filename = os.path.join('./data/', 'help-shop-locations.txt')\n",
    "    with open(filename, \"rb\") as f:\n",
    "        elements = partition_md(filename=filename)\n",
    "\n",
    "    elements_dict = convert_to_dict(elements)\n",
    "\n",
    "    available_stores = []\n",
    "    current_store = None\n",
    "    for el in elements_dict:\n",
    "        line_dict = extract_store_line(el[\"text\"])\n",
    "        if \"store_name\" in line_dict:\n",
    "            if current_store is not None:\n",
    "                available_stores.append(current_store)\n",
    "            line_dict[\"opening_hours\"] = []\n",
    "            current_store = line_dict\n",
    "        else:\n",
    "            if current_store.get(\"opening_hours\"):\n",
    "                current_store[\"opening_hours\"].append(line_dict)\n",
    "            else:\n",
    "                current_store[\"opening_hours\"] = [line_dict]\n",
    "    return available_stores"
   ],
   "metadata": {
    "collapsed": false,
    "ExecuteTime": {
     "end_time": "2023-09-04T13:23:28.830841Z",
     "start_time": "2023-09-04T13:23:28.824150Z"
    }
   },
   "id": "a164854080d54bf7"
  },
  {
   "cell_type": "code",
   "execution_count": 3,
   "outputs": [
    {
     "name": "stdout",
     "output_type": "stream",
     "text": [
      "{'store_name': 'Trendy Finds', 'city': 'Pijnacker', 'street': 'Kerkweg 1', 'telephone': '06-12345678', 'opening_hours': [{'monday': '11:00-18:00'}, {'tuesday': '09:00-18:00'}, {'wednesday': '09:00-18:00'}, {'thursday': '11:00-18:00'}, {'friday': '09:00-18:00'}, {'saturday': '10:00-17:00'}, {'sunday': 'Closed'}]}\n"
     ]
    }
   ],
   "source": [
    "found_stores = extract_stores()\n",
    "print(found_stores[0])"
   ],
   "metadata": {
    "collapsed": false,
    "ExecuteTime": {
     "end_time": "2023-09-04T13:23:35.279915Z",
     "start_time": "2023-09-04T13:23:35.030781Z"
    }
   },
   "id": "3c54ceb73ad38637"
  },
  {
   "cell_type": "code",
   "execution_count": 4,
   "outputs": [
    {
     "name": "stdout",
     "output_type": "stream",
     "text": [
      "We have a connection to the Amazon OpenSearch Cluster\n"
     ]
    }
   ],
   "source": [
    "from retriever import find_auth_opensearch, OpenSearchClient\n",
    "\n",
    "config = find_auth_opensearch()\n",
    "client = OpenSearchClient(config, alias_name=\"sg-stores\")\n",
    "\n",
    "if client.ping():\n",
    "    print(\"We have a connection to the Amazon OpenSearch Cluster\")\n",
    "else:\n",
    "    print(\"ERROR: no connection to the Amazon OpenSearch Cluster\")"
   ],
   "metadata": {
    "collapsed": false,
    "ExecuteTime": {
     "end_time": "2023-09-04T13:23:39.637960Z",
     "start_time": "2023-09-04T13:23:37.540950Z"
    }
   },
   "id": "5b74e2d4fcc5cb5a"
  },
  {
   "cell_type": "code",
   "execution_count": 6,
   "outputs": [
    {
     "name": "stdout",
     "output_type": "stream",
     "text": [
      "The version 1 of the component template sg_stores_component_settings is up-to-date\n",
      "The version 1 of the component template sg_stores_component_dynamic_mappings is up-to-date\n",
      "The version 1 of the component template sg_stores_component_mappings is up-to-date\n",
      "The version 1 of the index template is up-to-date\n"
     ]
    }
   ],
   "source": [
    "from retriever import OpenSearchTemplate\n",
    "\n",
    "template = OpenSearchTemplate(\n",
    "    client=client,\n",
    "    index_template_name=\"sg_stores_index_template\",\n",
    "    component_name_settings=\"sg_stores_component_settings\",\n",
    "    component_name_dyn_mappings=\"sg_stores_component_dynamic_mappings\",\n",
    "    component_name_mappings=\"sg_stores_component_mappings\"\n",
    ")\n",
    "\n",
    "for result in template.create_update_template():\n",
    "    print(result)"
   ],
   "metadata": {
    "collapsed": false,
    "ExecuteTime": {
     "end_time": "2023-09-04T13:23:49.076054Z",
     "start_time": "2023-09-04T13:23:48.570847Z"
    }
   },
   "id": "b4b5d38595935c53"
  },
  {
   "cell_type": "code",
   "execution_count": 7,
   "outputs": [
    {
     "name": "stdout",
     "output_type": "stream",
     "text": [
      "Index created with the name sg-stores-20230904152355\n"
     ]
    }
   ],
   "source": [
    "index_name = client.create_index()\n",
    "print(f\"Index created with the name {index_name}\")\n",
    "\n",
    "client.switch_alias_to(index_name=index_name)"
   ],
   "metadata": {
    "collapsed": false,
    "ExecuteTime": {
     "end_time": "2023-09-04T13:23:55.688343Z",
     "start_time": "2023-09-04T13:23:55.090369Z"
    }
   },
   "id": "b06768ba36619751"
  },
  {
   "cell_type": "code",
   "execution_count": 8,
   "outputs": [
    {
     "name": "stdout",
     "output_type": "stream",
     "text": [
      "{'store_name': 'Trendy Finds', 'city': 'Pijnacker', 'street': 'Kerkweg 1', 'telephone': '06-12345678', 'opening_hours': [{'week_day': 'monday', 'open_time': '11:00', 'closing_time': '18:00'}, {'week_day': 'tuesday', 'open_time': '09:00', 'closing_time': '18:00'}, {'week_day': 'wednesday', 'open_time': '09:00', 'closing_time': '18:00'}, {'week_day': 'thursday', 'open_time': '11:00', 'closing_time': '18:00'}, {'week_day': 'friday', 'open_time': '09:00', 'closing_time': '18:00'}, {'week_day': 'saturday', 'open_time': '10:00', 'closing_time': '17:00'}, {'week_day': 'sunday', 'open_time': '00:00', 'closing_time': '00:00'}]}\n"
     ]
    }
   ],
   "source": [
    "import copy\n",
    "\n",
    "found_stores_for_opensearch = copy.deepcopy(found_stores)\n",
    "for found_store in found_stores_for_opensearch:\n",
    "    current_opening_hours = found_store[\"opening_hours\"]\n",
    "    opening_hours = []\n",
    "    for i in current_opening_hours:\n",
    "        times = list(i.values())[0].split('-')\n",
    "        if len(times) == 2:\n",
    "            opening_hours.append({\"week_day\": list(i.keys())[0], \"open_time\": times[0], \"closing_time\": times[1]})\n",
    "        else:\n",
    "            opening_hours.append({\"week_day\": list(i.keys())[0], \"open_time\": \"00:00\", \"closing_time\": \"00:00\"})\n",
    "    found_store[\"opening_hours\"] = opening_hours\n",
    "\n",
    "print(found_stores_for_opensearch[0])\n"
   ],
   "metadata": {
    "collapsed": false,
    "ExecuteTime": {
     "end_time": "2023-09-04T13:23:57.790715Z",
     "start_time": "2023-09-04T13:23:57.780822Z"
    }
   },
   "id": "6466e3746e714ac7"
  },
  {
   "cell_type": "code",
   "execution_count": 9,
   "outputs": [],
   "source": [
    "import hashlib\n",
    "\n",
    "\n",
    "def generate_unique_id(input_string):\n",
    "    sha256_hash = hashlib.sha256(input_string.encode()).hexdigest()\n",
    "    return sha256_hash\n"
   ],
   "metadata": {
    "collapsed": false,
    "ExecuteTime": {
     "end_time": "2023-09-04T13:24:02.934288Z",
     "start_time": "2023-09-04T13:24:02.922213Z"
    }
   },
   "id": "4435dc759df8dd2"
  },
  {
   "cell_type": "code",
   "execution_count": 13,
   "outputs": [
    {
     "name": "stdout",
     "output_type": "stream",
     "text": [
      "Found 9 shops in the index\n"
     ]
    }
   ],
   "source": [
    "for index_store in found_stores_for_opensearch:\n",
    "    client.index_document(id=generate_unique_id(index_store[\"store_name\"]), document=index_store, index_name=index_name)\n",
    "\n",
    "num_shops = client.count_docs(index_name)[\"count\"]\n",
    "\n",
    "print(f\"Found {num_shops} shops in the index\")"
   ],
   "metadata": {
    "collapsed": false,
    "ExecuteTime": {
     "end_time": "2023-09-04T13:25:14.873274Z",
     "start_time": "2023-09-04T13:25:14.270334Z"
    }
   },
   "id": "185e4472c988467b"
  },
  {
   "cell_type": "code",
   "execution_count": 15,
   "outputs": [
    {
     "name": "stdout",
     "output_type": "stream",
     "text": [
      "{'took': 19, 'timed_out': False, '_shards': {'total': 1, 'successful': 1, 'skipped': 0, 'failed': 0}, 'hits': {'total': {'value': 1, 'relation': 'eq'}, 'max_score': 1.89712, 'hits': [{'_index': 'sg-stores-20230904152355', '_id': '66881903d49c0a4975ff704875e1ef90837b30a4deb8a30acb2ca8ee7ea7a193', '_score': 1.89712, '_source': {'store_name': 'Trendy Finds', 'city': 'Pijnacker', 'street': 'Kerkweg 1', 'telephone': '06-12345678', 'opening_hours': [{'week_day': 'monday', 'open_time': '11:00', 'closing_time': '18:00'}, {'week_day': 'tuesday', 'open_time': '09:00', 'closing_time': '18:00'}, {'week_day': 'wednesday', 'open_time': '09:00', 'closing_time': '18:00'}, {'week_day': 'thursday', 'open_time': '11:00', 'closing_time': '18:00'}, {'week_day': 'friday', 'open_time': '09:00', 'closing_time': '18:00'}, {'week_day': 'saturday', 'open_time': '10:00', 'closing_time': '17:00'}, {'week_day': 'sunday', 'open_time': '00:00', 'closing_time': '00:00'}]}}]}}\n"
     ]
    }
   ],
   "source": [
    "query = {\n",
    "    \"query\": {\n",
    "        \"match\": {\n",
    "            \"city\": \"pijnacker\"\n",
    "        }\n",
    "    }\n",
    "}\n",
    "\n",
    "results = client.search(body=query)\n",
    "\n",
    "print(results)"
   ],
   "metadata": {
    "collapsed": false,
    "ExecuteTime": {
     "end_time": "2023-09-04T13:32:14.500217Z",
     "start_time": "2023-09-04T13:32:14.426073Z"
    }
   },
   "id": "6238e8d0be5bfe80"
  }
 ],
 "metadata": {
  "kernelspec": {
   "display_name": "Python 3",
   "language": "python",
   "name": "python3"
  },
  "language_info": {
   "codemirror_mode": {
    "name": "ipython",
    "version": 2
   },
   "file_extension": ".py",
   "mimetype": "text/x-python",
   "name": "python",
   "nbconvert_exporter": "python",
   "pygments_lexer": "ipython2",
   "version": "2.7.6"
  }
 },
 "nbformat": 4,
 "nbformat_minor": 5
}
