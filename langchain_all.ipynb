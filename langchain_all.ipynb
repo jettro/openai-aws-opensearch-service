{
 "cells": [
  {
   "cell_type": "markdown",
   "source": [
    "# Searching or questioning all the sources\n",
    "In this notebook, we create a chain that can ask all the different sources a question. Using functions we can choose the right source. We use the language model to make the selection.\n",
    "- Product search: use the VectorStore retriever making use of Amazon OpenSearch Service\n",
    "- Question: use the VectorStore QA retriever to use content from the vector store and OpenAI to write an asnwer\n",
    "- Find Opening times: Use a normal query against Amazon OpenSearch Service"
   ],
   "metadata": {
    "collapsed": false
   },
   "id": "1cbd160780d4f13e"
  },
  {
   "cell_type": "markdown",
   "source": [
    "## Initialise the OpenSearch connection \n",
    "Notice that we do not provide a default alias. We need to provide the name of the index or alias on each request."
   ],
   "metadata": {
    "collapsed": false
   },
   "id": "2fe5671ee80d4fb"
  },
  {
   "cell_type": "code",
   "execution_count": 1,
   "id": "initial_id",
   "metadata": {
    "collapsed": true,
    "ExecuteTime": {
     "end_time": "2023-09-07T20:04:22.876746Z",
     "start_time": "2023-09-07T20:04:19.980633Z"
    }
   },
   "outputs": [
    {
     "name": "stdout",
     "output_type": "stream",
     "text": [
      "We have a connection to the Amazon OpenSearch Cluster\n"
     ]
    }
   ],
   "source": [
    "import langchain\n",
    "\n",
    "from retriever import find_auth_opensearch, OpenSearchClient\n",
    "\n",
    "config = find_auth_opensearch()\n",
    "client = OpenSearchClient(config)\n",
    "\n",
    "if client.ping():\n",
    "    print(\"We have a connection to the Amazon OpenSearch Cluster\")\n",
    "else:\n",
    "    print(\"ERROR: no connection to the Amazon OpenSearch Cluster\")"
   ]
  },
  {
   "cell_type": "markdown",
   "source": [
    "## Initialise the product search"
   ],
   "metadata": {
    "collapsed": false
   },
   "id": "d76075311321c998"
  },
  {
   "cell_type": "code",
   "execution_count": 2,
   "outputs": [],
   "source": [
    "import os\n",
    "\n",
    "from langchain.vectorstores import OpenSearchVectorSearch\n",
    "from langchain.embeddings import OpenAIEmbeddings\n",
    "from opensearchpy import RequestsHttpConnection\n",
    "from dotenv import load_dotenv\n",
    "\n",
    "load_dotenv()\n",
    "\n",
    "vector_store_products = OpenSearchVectorSearch(\n",
    "    index_name=\"sg-products\",\n",
    "    embedding_function=OpenAIEmbeddings(openai_api_key=os.getenv('OPEN_AI_API_KEY')),\n",
    "    opensearch_url=f\"https://{config['host']}:{config['port']}\",\n",
    "    use_ssl=True,\n",
    "    verify_certs=True,\n",
    "    http_auth=config[\"auth\"],\n",
    "    connection_class=RequestsHttpConnection\n",
    ")\n",
    "\n",
    "\n",
    "def execute_product_search(query: str):\n",
    "    found_docs = vector_store_products.similarity_search_with_score(query=query, text_field=\"title\",\n",
    "                                                                    vector_field=\"title_vector\")\n",
    "    results = []\n",
    "    for doc, _score in found_docs:\n",
    "        results.append({\"title\": doc.page_content, \"score\": _score})\n",
    "\n",
    "    return {\n",
    "        \"tool\": \"product_search\",\n",
    "        \"result\": results\n",
    "    }"
   ],
   "metadata": {
    "collapsed": false,
    "ExecuteTime": {
     "end_time": "2023-09-07T20:04:22.898570Z",
     "start_time": "2023-09-07T20:04:22.875314Z"
    }
   },
   "id": "e8e95161efdcfc53"
  },
  {
   "cell_type": "code",
   "execution_count": 3,
   "outputs": [
    {
     "name": "stdout",
     "output_type": "stream",
     "text": [
      "{'tool': 'product_search', 'result': [{'title': 'Frodo™ & Gollem™', 'score': 0.783552}, {'title': 'Aragorn™ & Arwen™', 'score': 0.7829778}, {'title': 'Gandalf de Grijze™ & Balrog™', 'score': 0.75242954}, {'title': 'Slag om Endor™ helden', 'score': 0.7370903}]}\n"
     ]
    }
   ],
   "source": [
    "print(execute_product_search(query=\"The lord of the rings\"))"
   ],
   "metadata": {
    "collapsed": false,
    "ExecuteTime": {
     "end_time": "2023-09-07T20:04:23.931330Z",
     "start_time": "2023-09-07T20:04:22.900618Z"
    }
   },
   "id": "c5d95e0190684883"
  },
  {
   "cell_type": "markdown",
   "source": [
    "## Initialise the content search"
   ],
   "metadata": {
    "collapsed": false
   },
   "id": "ddb348a691367e41"
  },
  {
   "cell_type": "code",
   "execution_count": 4,
   "outputs": [],
   "source": [
    "vector_store = OpenSearchVectorSearch(\n",
    "    index_name=\"sg-content\",\n",
    "    embedding_function=OpenAIEmbeddings(openai_api_key=os.getenv('OPEN_AI_API_KEY')),\n",
    "    opensearch_url=f\"https://{config['host']}:{config['port']}\",\n",
    "    use_ssl=True,\n",
    "    verify_certs=True,\n",
    "    http_auth=config[\"auth\"],\n",
    "    connection_class=RequestsHttpConnection\n",
    ")\n",
    "\n",
    "from langchain.chains import RetrievalQA\n",
    "from langchain import PromptTemplate, OpenAI\n",
    "\n",
    "prompt_template = \"\"\"Use the context to answer the question. If you don't know the \n",
    "    answer, just say that you don't know, don't make up an answer.\n",
    "\n",
    "    {context}\n",
    "\n",
    "    Question: {question}:\"\"\"\n",
    "\n",
    "custom_prompt = PromptTemplate(\n",
    "    template=prompt_template, input_variables=[\"context\", \"question\"]\n",
    ")\n",
    "\n",
    "chain_type_kwargs = {\"prompt\": custom_prompt}\n",
    "chain = RetrievalQA.from_chain_type(\n",
    "    llm=OpenAI(openai_api_key=os.getenv('OPEN_AI_API_KEY')),\n",
    "    chain_type=\"stuff\",\n",
    "    retriever=vector_store.as_retriever(),\n",
    "    chain_type_kwargs=chain_type_kwargs\n",
    ")\n",
    "\n",
    "\n",
    "def execute_content_search(query: str):\n",
    "    return {\n",
    "        \"tool\": \"content_search\",\n",
    "        \"result\": chain.run(query)\n",
    "    }"
   ],
   "metadata": {
    "collapsed": false,
    "ExecuteTime": {
     "end_time": "2023-09-07T20:04:23.932890Z",
     "start_time": "2023-09-07T20:04:23.924624Z"
    }
   },
   "id": "8ca315ee528588c0"
  },
  {
   "cell_type": "code",
   "execution_count": 5,
   "outputs": [
    {
     "name": "stdout",
     "output_type": "stream",
     "text": [
      "{'tool': 'content_search', 'result': '\\n\\nOur return policy can be found on our website under the \"Returns\" section. If you have any additional questions, please contact our customer support team.'}\n"
     ]
    }
   ],
   "source": [
    "print(execute_content_search(\"What is your return policy\"))"
   ],
   "metadata": {
    "collapsed": false,
    "ExecuteTime": {
     "end_time": "2023-09-07T20:04:26.457639Z",
     "start_time": "2023-09-07T20:04:23.936166Z"
    }
   },
   "id": "8cd0e139cb6e3e89"
  },
  {
   "cell_type": "code",
   "execution_count": 6,
   "outputs": [],
   "source": [
    "def execute_opening_hours(query: str):\n",
    "    body = {\n",
    "        \"query\": {\n",
    "            \"match\": {\n",
    "                \"city\": query\n",
    "            }\n",
    "        }\n",
    "    }\n",
    "    search_result = client.search(body=body, size=1, index_name=\"sg-stores\")\n",
    "    result = []\n",
    "    if search_result[\"hits\"][\"total\"][\"value\"] > 0:\n",
    "        result = search_result[\"hits\"][\"hits\"][0][\"_source\"]\n",
    "        \n",
    "    \n",
    "    return {\n",
    "        \"tool\": \"opening_hours\",\n",
    "        \"result\": result\n",
    "    }"
   ],
   "metadata": {
    "collapsed": false,
    "ExecuteTime": {
     "end_time": "2023-09-07T20:04:26.459184Z",
     "start_time": "2023-09-07T20:04:26.454543Z"
    }
   },
   "id": "bb8bd01fca638128"
  },
  {
   "cell_type": "code",
   "execution_count": 7,
   "outputs": [
    {
     "name": "stdout",
     "output_type": "stream",
     "text": [
      "{'tool': 'opening_hours', 'result': {'store_name': 'Trendy Finds', 'city': 'Pijnacker', 'street': 'Kerkweg 1', 'telephone': '06-12345678', 'opening_hours': [{'week_day': 'monday', 'open_time': '11:00', 'closing_time': '18:00'}, {'week_day': 'tuesday', 'open_time': '09:00', 'closing_time': '18:00'}, {'week_day': 'wednesday', 'open_time': '09:00', 'closing_time': '18:00'}, {'week_day': 'thursday', 'open_time': '11:00', 'closing_time': '18:00'}, {'week_day': 'friday', 'open_time': '09:00', 'closing_time': '18:00'}, {'week_day': 'saturday', 'open_time': '10:00', 'closing_time': '17:00'}, {'week_day': 'sunday', 'open_time': '00:00', 'closing_time': '00:00'}]}}\n"
     ]
    }
   ],
   "source": [
    "print(execute_opening_hours(\"pijnacker\"))"
   ],
   "metadata": {
    "collapsed": false,
    "ExecuteTime": {
     "end_time": "2023-09-07T20:04:26.500842Z",
     "start_time": "2023-09-07T20:04:26.458589Z"
    }
   },
   "id": "6ef2d05a1853d4a"
  },
  {
   "cell_type": "markdown",
   "source": [
    "## Initialise the agent using the previous functions"
   ],
   "metadata": {
    "collapsed": false
   },
   "id": "22032e82113050b9"
  },
  {
   "cell_type": "code",
   "execution_count": 13,
   "outputs": [],
   "source": [
    "from langchain.schema import SystemMessage\n",
    "from langchain.agents import OpenAIFunctionsAgent, AgentExecutor, initialize_agent, AgentType\n",
    "from langchain.tools import Tool\n",
    "from langchain.chat_models import ChatOpenAI\n",
    "\n",
    "\n",
    "def init_agent() -> AgentExecutor:\n",
    "    llm = ChatOpenAI(model=\"gpt-4-0613\", temperature=0, openai_api_key=os.getenv('OPEN_AI_API_KEY'))\n",
    "    system_message = SystemMessage(\n",
    "        content=\"You are a web service returning the pure json without a change.\")\n",
    "    prompt = OpenAIFunctionsAgent.create_prompt(system_message=system_message)\n",
    "\n",
    "    tools = [\n",
    "        Tool(name=\"ExecuteContentSearch\",\n",
    "             func=execute_content_search,\n",
    "             description=\"Useful for obtaining answers to questions about help for the website, your account and sustainability.\"\n",
    "             ),\n",
    "        Tool(name=\"ExecuteProductSearch\",\n",
    "             func=execute_product_search,\n",
    "             description=\"Useful for finding products related to the search terms that are provided.\"\n",
    "             ),\n",
    "        Tool(name=\"ExecuteOpeningHours\",\n",
    "             func=execute_opening_hours,\n",
    "             description=\"Useful for obtaining opening hours of a store in city that is provided.\"\n",
    "             ),\n",
    "\n",
    "    ]\n",
    "\n",
    "    agent = OpenAIFunctionsAgent(llm=llm, tools=tools, prompt=prompt)\n",
    "    return AgentExecutor(agent=agent, tools=tools, verbose=False)\n",
    "\n",
    "\n",
    "agent_executor = init_agent()\n"
   ],
   "metadata": {
    "collapsed": false,
    "ExecuteTime": {
     "end_time": "2023-09-07T20:08:33.685161Z",
     "start_time": "2023-09-07T20:08:33.673747Z"
    }
   },
   "id": "9d6ae061098402ab"
  },
  {
   "cell_type": "code",
   "execution_count": 15,
   "outputs": [
    {
     "name": "stdout",
     "output_type": "stream",
     "text": [
      "{\n",
      "  \"tool\": \"opening_hours\",\n",
      "  \"result\": {\n",
      "    \"store_name\": \"Trendy Finds\",\n",
      "    \"city\": \"Pijnacker\",\n",
      "    \"street\": \"Kerkweg 1\",\n",
      "    \"telephone\": \"06-12345678\",\n",
      "    \"opening_hours\": [\n",
      "      {\n",
      "        \"week_day\": \"monday\",\n",
      "        \"open_time\": \"11:00\",\n",
      "        \"closing_time\": \"18:00\"\n",
      "      },\n",
      "      {\n",
      "        \"week_day\": \"tuesday\",\n",
      "        \"open_time\": \"09:00\",\n",
      "        \"closing_time\": \"18:00\"\n",
      "      },\n",
      "      {\n",
      "        \"week_day\": \"wednesday\",\n",
      "        \"open_time\": \"09:00\",\n",
      "        \"closing_time\": \"18:00\"\n",
      "      },\n",
      "      {\n",
      "        \"week_day\": \"thursday\",\n",
      "        \"open_time\": \"11:00\",\n",
      "        \"closing_time\": \"18:00\"\n",
      "      },\n",
      "      {\n",
      "        \"week_day\": \"friday\",\n",
      "        \"open_time\": \"09:00\",\n",
      "        \"closing_time\": \"18:00\"\n",
      "      },\n",
      "      {\n",
      "        \"week_day\": \"saturday\",\n",
      "        \"open_time\": \"10:00\",\n",
      "        \"closing_time\": \"17:00\"\n",
      "      },\n",
      "      {\n",
      "        \"week_day\": \"sunday\",\n",
      "        \"open_time\": \"00:00\",\n",
      "        \"closing_time\": \"00:00\"\n",
      "      }\n",
      "    ]\n",
      "  }\n",
      "}\n"
     ]
    }
   ],
   "source": [
    "import langchain\n",
    "langchain.debug = False\n",
    "# message = \"lord of the rings\"\n",
    "# message = \"Do you use reusable packaging\"\n",
    "# message = \"How can I reset my password\"\n",
    "# message = \"Do you have something from Lord of the rings?\"\n",
    "message = \"openinghours pijnacker\"\n",
    "# message = \"openingstijden pijnacker\"\n",
    "response = agent_executor.run(message)\n",
    "\n",
    "print(response)"
   ],
   "metadata": {
    "collapsed": false,
    "ExecuteTime": {
     "end_time": "2023-09-07T20:09:30.914118Z",
     "start_time": "2023-09-07T20:08:59.211300Z"
    }
   },
   "id": "533d045ffe0fea82"
  }
 ],
 "metadata": {
  "kernelspec": {
   "display_name": "Python 3",
   "language": "python",
   "name": "python3"
  },
  "language_info": {
   "codemirror_mode": {
    "name": "ipython",
    "version": 2
   },
   "file_extension": ".py",
   "mimetype": "text/x-python",
   "name": "python",
   "nbconvert_exporter": "python",
   "pygments_lexer": "ipython2",
   "version": "2.7.6"
  }
 },
 "nbformat": 4,
 "nbformat_minor": 5
}
